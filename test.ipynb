{
 "cells": [
  {
   "cell_type": "code",
   "execution_count": 1,
   "metadata": {},
   "outputs": [],
   "source": [
    "from binance_ft.um_futures import UMFutures\n",
    "\n",
    "um_futures_client = UMFutures(key=\"c21f1bb909318f36de0f915077deadac8322ad7df00c93606970441674c1b39b\", secret=\"be2d7e74239b2e959b3446b880451cbb4dee2e6be9d391c4c55ae7ca0976f403\", base_url=\"https://testnet.binancefuture.com\")\n"
   ]
  },
  {
   "cell_type": "code",
   "execution_count": 5,
   "metadata": {},
   "outputs": [
    {
     "ename": "ClientError",
     "evalue": "(400, -2013, 'Order does not exist.', {'Date': 'Mon, 06 May 2024 01:06:06 GMT', 'Content-Type': 'application/json', 'Content-Length': '44', 'Connection': 'keep-alive', 'Server': 'Tengine', 'x-mbx-used-weight-1m': '1', 'x-response-time': '19ms', 'Access-Control-Allow-Origin': '*', 'Access-Control-Allow-Methods': 'GET, POST, PUT, DELETE, OPTIONS'})",
     "output_type": "error",
     "traceback": [
      "\u001b[0;31m---------------------------------------------------------------------------\u001b[0m",
      "\u001b[0;31mClientError\u001b[0m                               Traceback (most recent call last)",
      "Cell \u001b[0;32mIn[5], line 1\u001b[0m\n\u001b[0;32m----> 1\u001b[0m res_query \u001b[38;5;241m=\u001b[39m \u001b[43mum_futures_client\u001b[49m\u001b[38;5;241;43m.\u001b[39;49m\u001b[43mquery_order\u001b[49m\u001b[43m(\u001b[49m\u001b[43msymbol\u001b[49m\u001b[38;5;241;43m=\u001b[39;49m\u001b[38;5;124;43m\"\u001b[39;49m\u001b[38;5;124;43mBTCUSDT\u001b[39;49m\u001b[38;5;124;43m\"\u001b[39;49m\u001b[43m,\u001b[49m\u001b[43m \u001b[49m\u001b[43morderId\u001b[49m\u001b[38;5;241;43m=\u001b[39;49m\u001b[38;5;124;43m'\u001b[39;49m\u001b[38;5;124;43m350002932\u001b[39;49m\u001b[38;5;124;43m'\u001b[39;49m\u001b[43m,\u001b[49m\u001b[43m \u001b[49m\u001b[43mrecvWindow\u001b[49m\u001b[38;5;241;43m=\u001b[39;49m\u001b[38;5;241;43m6000\u001b[39;49m\u001b[43m)\u001b[49m\n\u001b[1;32m      2\u001b[0m res_query[\u001b[38;5;124m'\u001b[39m\u001b[38;5;124mstatus\u001b[39m\u001b[38;5;124m'\u001b[39m]\n",
      "File \u001b[0;32m~/workspace/binance-future/binance_ft/um_futures/account.py:312\u001b[0m, in \u001b[0;36mquery_order\u001b[0;34m(self, symbol, orderId, origClientOrderId, **kwargs)\u001b[0m\n\u001b[1;32m    309\u001b[0m     params \u001b[38;5;241m=\u001b[39m {\u001b[38;5;124m\"\u001b[39m\u001b[38;5;124msymbol\u001b[39m\u001b[38;5;124m\"\u001b[39m: symbol, \u001b[38;5;124m\"\u001b[39m\u001b[38;5;124morigClientOrderId\u001b[39m\u001b[38;5;124m\"\u001b[39m: origClientOrderId, \u001b[38;5;241m*\u001b[39m\u001b[38;5;241m*\u001b[39mkwargs}\n\u001b[1;32m    311\u001b[0m url_path \u001b[38;5;241m=\u001b[39m \u001b[38;5;124m\"\u001b[39m\u001b[38;5;124m/fapi/v1/order\u001b[39m\u001b[38;5;124m\"\u001b[39m\n\u001b[0;32m--> 312\u001b[0m \u001b[38;5;28;01mreturn\u001b[39;00m \u001b[38;5;28;43mself\u001b[39;49m\u001b[38;5;241;43m.\u001b[39;49m\u001b[43msign_request\u001b[49m\u001b[43m(\u001b[49m\u001b[38;5;124;43m\"\u001b[39;49m\u001b[38;5;124;43mGET\u001b[39;49m\u001b[38;5;124;43m\"\u001b[39;49m\u001b[43m,\u001b[49m\u001b[43m \u001b[49m\u001b[43murl_path\u001b[49m\u001b[43m,\u001b[49m\u001b[43m \u001b[49m\u001b[43mparams\u001b[49m\u001b[43m)\u001b[49m\n",
      "File \u001b[0;32m~/workspace/binance-future/binance_ft/api.py:83\u001b[0m, in \u001b[0;36mAPI.sign_request\u001b[0;34m(self, http_method, url_path, payload, special)\u001b[0m\n\u001b[1;32m     81\u001b[0m query_string \u001b[38;5;241m=\u001b[39m \u001b[38;5;28mself\u001b[39m\u001b[38;5;241m.\u001b[39m_prepare_params(payload, special)\n\u001b[1;32m     82\u001b[0m payload[\u001b[38;5;124m\"\u001b[39m\u001b[38;5;124msignature\u001b[39m\u001b[38;5;124m\"\u001b[39m] \u001b[38;5;241m=\u001b[39m \u001b[38;5;28mself\u001b[39m\u001b[38;5;241m.\u001b[39m_get_sign(query_string)\n\u001b[0;32m---> 83\u001b[0m \u001b[38;5;28;01mreturn\u001b[39;00m \u001b[38;5;28;43mself\u001b[39;49m\u001b[38;5;241;43m.\u001b[39;49m\u001b[43msend_request\u001b[49m\u001b[43m(\u001b[49m\u001b[43mhttp_method\u001b[49m\u001b[43m,\u001b[49m\u001b[43m \u001b[49m\u001b[43murl_path\u001b[49m\u001b[43m,\u001b[49m\u001b[43m \u001b[49m\u001b[43mpayload\u001b[49m\u001b[43m,\u001b[49m\u001b[43m \u001b[49m\u001b[43mspecial\u001b[49m\u001b[43m)\u001b[49m\n",
      "File \u001b[0;32m~/workspace/binance-future/binance_ft/api.py:118\u001b[0m, in \u001b[0;36mAPI.send_request\u001b[0;34m(self, http_method, url_path, payload, special)\u001b[0m\n\u001b[1;32m    116\u001b[0m response \u001b[38;5;241m=\u001b[39m \u001b[38;5;28mself\u001b[39m\u001b[38;5;241m.\u001b[39m_dispatch_request(http_method)(\u001b[38;5;241m*\u001b[39m\u001b[38;5;241m*\u001b[39mparams)\n\u001b[1;32m    117\u001b[0m logging\u001b[38;5;241m.\u001b[39mdebug(\u001b[38;5;124m\"\u001b[39m\u001b[38;5;124mraw response from server:\u001b[39m\u001b[38;5;124m\"\u001b[39m \u001b[38;5;241m+\u001b[39m response\u001b[38;5;241m.\u001b[39mtext)\n\u001b[0;32m--> 118\u001b[0m \u001b[38;5;28;43mself\u001b[39;49m\u001b[38;5;241;43m.\u001b[39;49m\u001b[43m_handle_exception\u001b[49m\u001b[43m(\u001b[49m\u001b[43mresponse\u001b[49m\u001b[43m)\u001b[49m\n\u001b[1;32m    120\u001b[0m \u001b[38;5;28;01mtry\u001b[39;00m:\n\u001b[1;32m    121\u001b[0m     data \u001b[38;5;241m=\u001b[39m response\u001b[38;5;241m.\u001b[39mjson()\n",
      "File \u001b[0;32m~/workspace/binance-future/binance_ft/api.py:172\u001b[0m, in \u001b[0;36mAPI._handle_exception\u001b[0;34m(self, response)\u001b[0m\n\u001b[1;32m    170\u001b[0m     \u001b[38;5;28;01mexcept\u001b[39;00m JSONDecodeError:\n\u001b[1;32m    171\u001b[0m         \u001b[38;5;28;01mraise\u001b[39;00m ClientError(status_code, \u001b[38;5;28;01mNone\u001b[39;00m, response\u001b[38;5;241m.\u001b[39mtext, response\u001b[38;5;241m.\u001b[39mheaders)\n\u001b[0;32m--> 172\u001b[0m     \u001b[38;5;28;01mraise\u001b[39;00m ClientError(status_code, err[\u001b[38;5;124m\"\u001b[39m\u001b[38;5;124mcode\u001b[39m\u001b[38;5;124m\"\u001b[39m], err[\u001b[38;5;124m\"\u001b[39m\u001b[38;5;124mmsg\u001b[39m\u001b[38;5;124m\"\u001b[39m], response\u001b[38;5;241m.\u001b[39mheaders)\n\u001b[1;32m    173\u001b[0m \u001b[38;5;28;01mraise\u001b[39;00m ServerError(status_code, response\u001b[38;5;241m.\u001b[39mtext)\n",
      "\u001b[0;31mClientError\u001b[0m: (400, -2013, 'Order does not exist.', {'Date': 'Mon, 06 May 2024 01:06:06 GMT', 'Content-Type': 'application/json', 'Content-Length': '44', 'Connection': 'keep-alive', 'Server': 'Tengine', 'x-mbx-used-weight-1m': '1', 'x-response-time': '19ms', 'Access-Control-Allow-Origin': '*', 'Access-Control-Allow-Methods': 'GET, POST, PUT, DELETE, OPTIONS'})"
     ]
    }
   ],
   "source": [
    "res_query = um_futures_client.query_order(symbol=\"BTCUSDT\", orderId='350002932', recvWindow=6000)\n",
    "res_query['status']"
   ]
  },
  {
   "cell_type": "code",
   "execution_count": 1,
   "metadata": {},
   "outputs": [],
   "source": [
    "key=\"7NvUEUX4tnzOja5KQ99gmUG37DQOV9oelvz1akWAr2Zts9X57djRMwbvfgjQoykp\"\n",
    "secret=\"X9CWCXNsdypjEU8Q0AQaoaqPrcnaX4wpDe5KVxsAfThkVJJAvufiGJ3tb95QqnQC\"\n",
    "\n",
    "# key api test2\n",
    "import time\n",
    "from binance_ft.um_futures import UMFutures\n",
    "um_futures_client = UMFutures(key=key, secret=secret)\n",
    "# um_futures_client = UMFutures(key=key, secret=secret, base_url=\"https://testnet.binancefuture.com\")\n",
    "\n",
    "from binance.spot import Spot\n",
    "\n",
    "\n",
    "\n",
    "spot_client = Spot(api_key=key, api_secret=secret)\n",
    "import pandas as pd\n",
    "import os\n",
    "\n",
    "\n"
   ]
  },
  {
   "cell_type": "code",
   "execution_count": 10,
   "metadata": {},
   "outputs": [
    {
     "data": {
      "text/plain": [
       "'FILLED'"
      ]
     },
     "execution_count": 10,
     "metadata": {},
     "output_type": "execute_result"
    }
   ],
   "source": [
    "res_query = um_futures_client.query_order(symbol=\"ORDIUSDC\", orderId='349873399', recvWindow=6000)\n",
    "res_query['status']"
   ]
  },
  {
   "cell_type": "code",
   "execution_count": 24,
   "metadata": {},
   "outputs": [
    {
     "data": {
      "text/plain": [
       "{'orderId': 349873399,\n",
       " 'symbol': 'ORDIUSDC',\n",
       " 'status': 'FILLED',\n",
       " 'clientOrderId': '4c85C2L9XLIn7DCEIBEpD1',\n",
       " 'price': '39.957000',\n",
       " 'avgPrice': '39.9570000',\n",
       " 'origQty': '2.5',\n",
       " 'executedQty': '2.5',\n",
       " 'cumQuote': '99.8925000',\n",
       " 'timeInForce': 'GTC',\n",
       " 'type': 'LIMIT',\n",
       " 'reduceOnly': False,\n",
       " 'closePosition': False,\n",
       " 'side': 'SELL',\n",
       " 'positionSide': 'BOTH',\n",
       " 'stopPrice': '0.000000',\n",
       " 'workingType': 'CONTRACT_PRICE',\n",
       " 'priceProtect': False,\n",
       " 'origType': 'LIMIT',\n",
       " 'priceMatch': 'NONE',\n",
       " 'selfTradePreventionMode': 'NONE',\n",
       " 'goodTillDate': 0,\n",
       " 'time': 1714931131762,\n",
       " 'updateTime': 1714951044865}"
      ]
     },
     "execution_count": 24,
     "metadata": {},
     "output_type": "execute_result"
    }
   ],
   "source": [
    "res_query"
   ]
  },
  {
   "cell_type": "code",
   "execution_count": 25,
   "metadata": {},
   "outputs": [
    {
     "data": {
      "text/plain": [
       "datetime.datetime(2024, 5, 6, 6, 17, 24, 865000, tzinfo=<DstTzInfo 'Asia/Bangkok' +07+7:00:00 STD>)"
      ]
     },
     "execution_count": 25,
     "metadata": {},
     "output_type": "execute_result"
    }
   ],
   "source": [
    "from datetime import datetime, timezone, timedelta\n",
    "import pytz\n",
    "\n",
    "tz = pytz.timezone('Asia/Bangkok')\n",
    "\n",
    "dt_obj = datetime.fromtimestamp(int(res_query['updateTime'])/1000, tz)\n",
    "dt_obj"
   ]
  },
  {
   "cell_type": "code",
   "execution_count": 19,
   "metadata": {},
   "outputs": [
    {
     "ename": "TypeError",
     "evalue": "'datetime.datetime' object is not subscriptable",
     "output_type": "error",
     "traceback": [
      "\u001b[0;31m---------------------------------------------------------------------------\u001b[0m",
      "\u001b[0;31mTypeError\u001b[0m                                 Traceback (most recent call last)",
      "Cell \u001b[0;32mIn[19], line 1\u001b[0m\n\u001b[0;32m----> 1\u001b[0m \u001b[43mdt_obj\u001b[49m\u001b[43m[\u001b[49m\u001b[38;5;241;43m0\u001b[39;49m\u001b[43m]\u001b[49m\n",
      "\u001b[0;31mTypeError\u001b[0m: 'datetime.datetime' object is not subscriptable"
     ]
    }
   ],
   "source": [
    "dt_obj[0]"
   ]
  },
  {
   "cell_type": "code",
   "execution_count": 6,
   "metadata": {},
   "outputs": [],
   "source": [
    "def get_status_pos(pair):\n",
    "    list_risks = um_futures_client.get_position_risk()\n",
    "    for pos in list_risks:\n",
    "        if pos['symbol'] == pair:\n",
    "            mean_price = float(pos['entryPrice'])\n",
    "            pnl = float(pos[\"unRealizedProfit\"])\n",
    "            coin_num = abs(float(pos[\"positionAmt\"]))\n",
    "            usdt_num = abs(float(pos[\"notional\"]))\n",
    "            return mean_price, pnl, coin_num, usdt_num\n",
    "    else:\n",
    "        return None, None, None, 0\n",
    "\n",
    "\n"
   ]
  },
  {
   "cell_type": "code",
   "execution_count": 7,
   "metadata": {},
   "outputs": [
    {
     "data": {
      "text/plain": [
       "(20.803, 1.03389229, 7.21, 148.9557377)"
      ]
     },
     "execution_count": 7,
     "metadata": {},
     "output_type": "execute_result"
    }
   ],
   "source": [
    "get_status_pos(\"NEOUSDT\")"
   ]
  },
  {
   "cell_type": "code",
   "execution_count": 17,
   "metadata": {},
   "outputs": [
    {
     "data": {
      "text/plain": [
       "[{'symbol': 'NEOUSDT',\n",
       "  'positionAmt': '-7.13',\n",
       "  'entryPrice': '21.03335343619',\n",
       "  'breakEvenPrice': '21.03335343619',\n",
       "  'markPrice': '20.84700000',\n",
       "  'unRealizedProfit': '1.32869995',\n",
       "  'liquidationPrice': '32.14580062',\n",
       "  'leverage': '20',\n",
       "  'maxNotionalValue': '400000',\n",
       "  'marginType': 'cross',\n",
       "  'isolatedMargin': '0.00000000',\n",
       "  'isAutoAddMargin': 'false',\n",
       "  'positionSide': 'BOTH',\n",
       "  'notional': '-148.63911000',\n",
       "  'isolatedWallet': '0',\n",
       "  'updateTime': 1712630338707,\n",
       "  'isolated': False,\n",
       "  'adlQuantile': 2}]"
      ]
     },
     "execution_count": 17,
     "metadata": {},
     "output_type": "execute_result"
    }
   ],
   "source": [
    "list_risks = um_futures_client.get_position_risk()\n",
    "open_positions = [position for position in list_risks if float(position['positionAmt']) != 0]\n",
    "open_positions\n"
   ]
  },
  {
   "cell_type": "code",
   "execution_count": 16,
   "metadata": {},
   "outputs": [
    {
     "name": "stdout",
     "output_type": "stream",
     "text": [
      "{'symbol': 'NEOUSDT', 'positionAmt': '-7.13', 'entryPrice': '21.03335343619', 'breakEvenPrice': '21.03335343619', 'markPrice': '20.81147115', 'unRealizedProfit': '1.58202065', 'liquidationPrice': '32.14580062', 'leverage': '20', 'maxNotionalValue': '400000', 'marginType': 'cross', 'isolatedMargin': '0.00000000', 'isAutoAddMargin': 'false', 'positionSide': 'BOTH', 'notional': '-148.38578929', 'isolatedWallet': '0', 'updateTime': 1712630338707, 'isolated': False, 'adlQuantile': 2}\n"
     ]
    }
   ],
   "source": [
    "for pos in list_risks:\n",
    "    if pos['symbol'] == \"NEOUSDT\":\n",
    "        print(pos)"
   ]
  },
  {
   "cell_type": "code",
   "execution_count": 3,
   "metadata": {},
   "outputs": [
    {
     "name": "stdout",
     "output_type": "stream",
     "text": [
      "future_info {'filterType': 'LOT_SIZE', 'maxQty': '50000000', 'stepSize': '1', 'minQty': '1'}\n",
      "spot_info {'filterType': 'LOT_SIZE', 'minQty': '0.10000000', 'maxQty': '92141578.00000000', 'stepSize': '0.10000000'}\n"
     ]
    },
    {
     "data": {
      "text/plain": [
       "(0.011072, 0.011078, 0.011075, 0.01106336)"
      ]
     },
     "execution_count": 3,
     "metadata": {},
     "output_type": "execute_result"
    }
   ],
   "source": [
    "\n",
    "pair = \"JASMYUSDT\"\n",
    "pair_spot = pair.replace(\"USDT\", \"USDT\")\n",
    "\n",
    "future_info = um_futures_client.exchange_info()['symbols']\n",
    "kk = [i['filters'] for i in future_info if i['symbol'] == pair][0][1]\n",
    "print(\"future_info\", kk)\n",
    "\n",
    "print(\"spot_info\", spot_client.exchange_info(pair_spot)['symbols'][0]['filters'][1])\n",
    "\n",
    "bid_spot = float(spot_client.book_ticker(pair_spot)['bidPrice'])\n",
    "ask_spot = float(spot_client.book_ticker(pair_spot)['askPrice'])\n",
    "\n",
    "mark_price = float(spot_client.ticker_price(pair_spot)['price'])\n",
    "mark_ft = float(um_futures_client.mark_price(pair)['markPrice'])\n",
    "bid_spot, mark_price, ask_spot, mark_ft\n"
   ]
  },
  {
   "cell_type": "code",
   "execution_count": null,
   "metadata": {},
   "outputs": [],
   "source": [
    "# spot_client.cancel_open_orders(symbol=pair_spot)"
   ]
  },
  {
   "cell_type": "code",
   "execution_count": 26,
   "metadata": {},
   "outputs": [
    {
     "name": "stdout",
     "output_type": "stream",
     "text": [
      "order ft at 0.014393\n",
      "ft_order_id = 2747858775\n",
      "price_ft = 0.014393\n",
      "usdt_value_ft = 50.015675\n",
      "executedQty_future = 3475.0\n",
      "type_ft = LIMIT\n",
      "---------------------\n",
      "price_spot expect:  0.014405\n",
      "price_spot = 0.014405\n",
      "usdt_value_spot = 50.0156005\n",
      "executedQty_spot = 3472.1\n",
      "type_spot = LIMIT\n"
     ]
    }
   ],
   "source": [
    "# future truoc spot sau:\n",
    "precision_ft = 0\n",
    "precision_spot =1\n",
    "usdt = 50\n",
    "um_futures_client.change_leverage(symbol=pair, leverage=5, recvWindow=6000)\n",
    "\n",
    "# print(\"order spot at\", price_spot)\n",
    "\n",
    "\n",
    "now_ft_price = float(um_futures_client.mark_price(pair)['markPrice']) \n",
    "price_ft = now_ft_price+0.000003\n",
    "price_ft = round(price_ft, 6)\n",
    "time_start = time.strftime(\"%m-%d %H:%M:%S\")\n",
    "print(\"order ft at\", price_ft)\n",
    "\n",
    "quantity_ft = round((usdt)/now_ft_price, precision_ft)\n",
    "open_future = um_futures_client.new_order(symbol=pair, side=\"SELL\", type=\"LIMIT\", quantity=quantity_ft, price = price_ft, timeInForce=\"GTC\")\n",
    "\n",
    "# open_future = um_futures_client.new_order(symbol=pair, side=\"SELL\", type=\"MARKET\", quantity=quantity_ft)\n",
    "ft_order_id = open_future[\"orderId\"]\n",
    "print(\"ft_order_id =\", ft_order_id)\n",
    "while True:\n",
    "    res_query_ft = um_futures_client.query_order(symbol=pair, orderId=ft_order_id, recvWindow=6000)\n",
    "    if res_query_ft['status'] == \"FILLED\":\n",
    "        # avg_spot = float(spot_order['price'])\n",
    "        price_ft = float(res_query_ft['avgPrice'])\n",
    "        executedQty_future = float(res_query_ft['executedQty'])\n",
    "        usdt_value_ft = float(res_query_ft['cumQuote'])\n",
    "        print(\"price_ft =\", price_ft)\n",
    "        print(\"usdt_value_ft =\",usdt_value_ft)\n",
    "        print(\"executedQty_future =\", executedQty_future)\n",
    "        print(\"type_ft =\",res_query_ft['type'])\n",
    "        print(\"---------------------\")\n",
    "        price_spot = float(spot_client.ticker_price(pair_spot)['price'])\n",
    "        print(\"price_spot expect: \", price_spot)\n",
    "        quantity_spot = round(usdt_value_ft/price_spot,precision_spot)\n",
    "        open_spot = spot_client.new_order(symbol=pair_spot, side=\"BUY\", type=\"LIMIT\", quantity=quantity_spot, price=price_spot, timeInForce=\"GTC\")\n",
    "        order_id_spot = open_spot[\"orderId\"]\n",
    "        while True:\n",
    "            res_query_spot = spot_client.get_order(symbol=pair_spot, orderId=order_id_spot, recvWindow=6000)\n",
    "            if res_query_spot['status'] == \"FILLED\":\n",
    "                executedQty_spot = float(res_query_spot['executedQty'])\n",
    "                usdt_value_spot = float(res_query_spot['cummulativeQuoteQty'])\n",
    "                price_spot = float(res_query_spot['price'])\n",
    "                # print(\"spot:\", price_spot, usdt_value_spot, \"quantity:\", executedQty_spot, res_query_spot['type'])\n",
    "                print(\"price_spot =\", price_spot)\n",
    "                print(\"usdt_value_spot =\",usdt_value_spot)\n",
    "                print(\"executedQty_spot =\", executedQty_spot)\n",
    "                print(\"type_spot =\",res_query_spot['type'])\n",
    "                break\n",
    "            time.sleep(0.1)\n",
    "        break\n",
    "    time.sleep(0.1)"
   ]
  },
  {
   "cell_type": "code",
   "execution_count": 27,
   "metadata": {},
   "outputs": [
    {
     "name": "stdout",
     "output_type": "stream",
     "text": [
      "fee spot 0.07502340075\n",
      "fee_future 0.017005329500000003\n",
      "0.7827226553229414\n",
      "*****************************  02-21 23:32:36  ****************\n",
      "curret_ft 0.013492\n",
      "curret_spot 0.013616\n",
      "take order at:\n"
     ]
    }
   ],
   "source": [
    "file_hist = \"history.xlsx\"\n",
    "if not os.path.exists(file_hist):\n",
    "    df = pd.DataFrame(columns=[\"time_start\", \"pair\", \"price_open_spot\",\"usdt_spot\",\"price_open_future\",\"usdt_ft\", \"price_close_spot\", \"price_close_ft\", \"time_order\", \"time_close_spot\", \"time_close_ft\", \"pnl\", \"pnl_per_input\", \"thresh\", \"highest_ft\"])\n",
    "    df.to_excel(file_hist,index_label=\"stt\" )\n",
    "\n",
    "\n",
    "\n",
    "fee_open = 0.00075 # use busd\n",
    "fee_close = 0.00075\n",
    "\n",
    "fee_ft_open = 0.00017\n",
    "fee_ft_close = 0.00017\n",
    "all_fee_per = fee_open + fee_close +fee_ft_open+fee_ft_close\n",
    "fee_spot = (fee_open + fee_close)*usdt_value_spot\n",
    "fee_future = (fee_ft_open + fee_ft_close) * usdt_value_ft\n",
    "print(\"fee spot\", fee_spot)\n",
    "print(\"fee_future\", fee_future)\n",
    "thresh_profit = 0.0008\n",
    "\n",
    "while True:\n",
    "    # curret_ft = float(um_futures_client.mark_price(pair)['markPrice'])\n",
    "    # curret_spot = float(spot_client.ticker_price(pair_spot)['price'])\n",
    "\n",
    "\n",
    "    curret_ft = float(um_futures_client.book_ticker(pair)['askPrice'])  # > mark price\n",
    "    curret_spot = float(spot_client.book_ticker(pair_spot)['bidPrice'])  # < mark price\n",
    "\n",
    "    gap_ft = -(curret_ft - price_ft)/price_ft * 100\n",
    "    gap_spot = (curret_spot - price_spot)/price_spot * 100  \n",
    "\n",
    "    if gap_spot + gap_ft > 0.25:\n",
    "        print(gap_spot + gap_ft)\n",
    "\n",
    "    pnl_ft = (price_ft - curret_ft)/price_ft * usdt_value_ft\n",
    "    pnl_spot = (curret_spot-price_spot)/price_spot * usdt_value_spot\n",
    "    \n",
    "    # print(\"pnl ft: \" ,pnl_ft, \"pnl_spot\", pnl_spot)\n",
    "\n",
    "    # print(\"pnl:\",pnl_spot + pnl_ft - fee_spot - fee_future)\n",
    "    \n",
    "    if pnl_spot + pnl_ft - fee_spot - fee_future > usdt_value_spot * thresh_profit :\n",
    "        # clo\\\n",
    "        #  nbbbvse position\n",
    "        close_future =  um_futures_client.new_order(symbol=pair, side=\"BUY\", type=\"LIMIT\", quantity=executedQty_future, price = curret_ft, timeInForce=\"GTC\")\n",
    "\n",
    "        # close_future = um_futures_client.new_order(symbol=pair,side=\"BUY\",type=\"MARKET\",quantity=executedQty_future)\n",
    "        close_spot = spot_client.new_order(symbol=pair_spot, side=\"SELL\", type=\"LIMIT\", quantity=executedQty_spot, price=curret_spot, timeInForce=\"GTC\")\n",
    "        close_future_id=close_future['orderId']\n",
    "        close_spot_id=close_spot['orderId']\n",
    "\n",
    "        \n",
    "        # close_future = um_futures_client.new_order(symbol=pair,side=\"BUY\",type=\"MARKET\",quantity=executedQty_future)\n",
    "        # close_spot = spot_client.new_order(symbol=pair_spot,side=\"SELL\",type=\"MARKET\",quantity=executedQty_spot)\n",
    "        time_order_close = time.strftime(\"%m-%d %H:%M:%S\")\n",
    "        print(\"***************************** \", time_order_close, \" ****************\")\n",
    "        print(\"curret_ft\", curret_ft)\n",
    "        print(\"curret_spot\", curret_spot)\n",
    "        time.sleep(1)\n",
    "        print(\"take order at:\")\n",
    "        time_done_spot = None\n",
    "        time_done_ft = None\n",
    "\n",
    "        while True:\n",
    "            status_ft_close = um_futures_client.get_account_trades(symbol=pair, orderId=close_future_id)\n",
    "            status_spot_close = spot_client.get_order(symbol=pair_spot, orderId=close_spot_id, recvWindow=6000)\n",
    "            highest_price_ft_when_close = 0\n",
    "            if status_spot_close['status'] == \"FILLED\":\n",
    "                if time_done_spot is None :\n",
    "                    time_done_spot = time.strftime(\"%m-%d %H:%M:%S\")\n",
    "                rate_ft = float(um_futures_client.mark_price(pair)['markPrice'])/curret_ft\n",
    "                if rate_ft > highest_price_ft_when_close:\n",
    "                    highest_price_ft_when_close = rate_ft\n",
    "            if len(status_ft_close) and time_done_ft is None:\n",
    "                time_done_ft = time.strftime(\"%m-%d %H:%M:%S\")\n",
    "            if status_spot_close['status'] == \"FILLED\" and len(status_ft_close):\n",
    "                price_ft_close_real = float(status_ft_close[0]['price'])\n",
    "                # price_spot_close_real = float(close_spot['fills'][0]['price'])\n",
    "                price_spot_close_real = curret_spot\n",
    "                print(\"ft:\", price_ft_close_real, \"--at--\", time_done_ft )\n",
    "                print(\"spot:\", price_spot_close_real,\"--at--\", time_done_spot )\n",
    "                print(\"pnl estimate: \", pnl_spot + pnl_ft - fee_spot - fee_future)\n",
    "                gap = -(curret_ft - price_ft)/price_ft * 100 + (curret_spot - price_spot)/price_spot * 100\n",
    "                if gap_spot > 0:\n",
    "                    print(\"---> tang\", gap,\"%\")\n",
    "                else:\n",
    "                    print(\"---> giam\", gap,\"%\")\n",
    "                break\n",
    "            else:\n",
    "                time.sleep(0.1)\n",
    "\n",
    "        break\n",
    "    time.sleep(0.3)\n",
    "\n",
    "    # calculate profit\n",
    "BNB_price = float(spot_client.ticker_price(\"BNBUSDT\")['price'])\n",
    "\n",
    "# outcome_spot = sum([float(i['qty']) * float(i['price']) for i in close_spot['fills']]) #taker\n",
    "outcome_spot = float(status_spot_close['cummulativeQuoteQty']) #maker\n",
    "\n",
    "res_ft_close = um_futures_client.get_account_trades(symbol=pair, orderId=close_future_id)\n",
    "res_ft_open = um_futures_client.get_account_trades(symbol=pair, orderId=ft_order_id)\n",
    "\n",
    "# assert float(res_ft_close[\"qty\"]) == quantity_ft and float(res_ft_open[\"qty\"]) == quantity_ft\n",
    "# commision_close_spot = sum([float(i['commission']) for i in close_spot['fills']])*BNB_price\n",
    "commision_close_spot = usdt_value_spot * 0.00075\n",
    "commision_close_future = sum([float(res['commission']) for res in res_ft_close])*BNB_price\n",
    "commision_open_future = sum([float(res['commission']) for res in res_ft_open])*BNB_price\n",
    "\n",
    "pnl_ft =  sum([float(res['realizedPnl']) for res in res_ft_close])\n",
    "pnl_spot = outcome_spot -  usdt_value_spot\n",
    "all_profit = pnl_ft + pnl_spot - commision_close_future - commision_close_spot*2 - commision_open_future\n",
    "print(\"profit real: \",all_profit)\n",
    "\n",
    "\n",
    "\n",
    "df = pd.read_excel(file_hist, index_col=\"stt\")\n",
    "df.loc[len(df)] = [time_start, pair, price_spot, usdt_value_spot, price_ft, usdt_value_ft, price_spot_close_real, price_ft_close_real, time_order_close, time_done_spot, time_done_ft, round(all_profit,4), round(all_profit/usdt_value_spot*100, 4), thresh_profit, (highest_price_ft_when_close-1)*100]\n",
    "\n",
    "df.to_excel(file_hist,index_label=\"stt\")\n",
    "\n",
    "    "
   ]
  },
  {
   "cell_type": "code",
   "execution_count": null,
   "metadata": {},
   "outputs": [],
   "source": [
    "# (curret_spot - price_spot)/price_spot +   -(curret_ft - price_ft)/price_ft\n",
    "# (float(close_spot['fills'][0]['price']) - price_spot)/price_spot +   -(float(um_futures_client.get_account_trades(symbol=pair, orderId=close_future['orderId'])[0]['price']) - price_ft)/price_ft\n",
    "# close_future = um_futures_client.new_order(symbol=pair,side=\"BUY\",type=\"MARKET\",quantity=executedQty_future)\n",
    "# close_spot = spot_client.new_order(symbol=pair_spot,side=\"SELL\",type=\"MARKET\",quantity=executedQty_spot)\n"
   ]
  },
  {
   "cell_type": "code",
   "execution_count": null,
   "metadata": {},
   "outputs": [],
   "source": [
    "# response = um_futures_client.get_account_trades(symbol=pair,orderId=ft_order_id, recvWindow=6000)\n",
    "# BNB_price = float(spot_client.ticker_price(\"BNBUSDT\")['price'])\n",
    "# float(response[0]['commission']) * BNB_price / usdt_value_ft"
   ]
  },
  {
   "cell_type": "code",
   "execution_count": 2,
   "metadata": {},
   "outputs": [],
   "source": [
    "um_futures_client = UMFutures(key=\"c21f1bb909318f36de0f915077deadac8322ad7df00c93606970441674c1b39b\", secret=\"be2d7e74239b2e959b3446b880451cbb4dee2e6be9d391c4c55ae7ca0976f403\", base_url=\"https://testnet.binancefuture.com\")\n"
   ]
  }
 ],
 "metadata": {
  "kernelspec": {
   "display_name": "Python 3",
   "language": "python",
   "name": "python3"
  },
  "language_info": {
   "codemirror_mode": {
    "name": "ipython",
    "version": 3
   },
   "file_extension": ".py",
   "mimetype": "text/x-python",
   "name": "python",
   "nbconvert_exporter": "python",
   "pygments_lexer": "ipython3",
   "version": "3.9.6"
  },
  "orig_nbformat": 4
 },
 "nbformat": 4,
 "nbformat_minor": 2
}

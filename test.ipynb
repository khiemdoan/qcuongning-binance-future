{
 "cells": [
  {
   "cell_type": "code",
   "execution_count": null,
   "metadata": {},
   "outputs": [],
   "source": [
    "import logging\n",
    "from binance_ft.cm_futures import CMFutures\n",
    "from binance_ft.lib.utils import config_logging\n",
    "\n",
    "config_logging(logging, logging.DEBUG)\n",
    "\n",
    "cm_futures_client = CMFutures()\n",
    "\n",
    "logging.info(cm_futures_client.mark_price(\"BTCUSD_PERP\"))"
   ]
  }
 ],
 "metadata": {
  "language_info": {
   "name": "python"
  },
  "orig_nbformat": 4
 },
 "nbformat": 4,
 "nbformat_minor": 2
}

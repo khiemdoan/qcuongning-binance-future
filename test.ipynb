{
 "cells": [
  {
   "cell_type": "code",
   "execution_count": 2,
   "metadata": {},
   "outputs": [
    {
     "name": "stderr",
     "output_type": "stream",
     "text": [
      "/tmp/ipykernel_612660/1899344168.py:12: DeprecationWarning: \n",
      "Pyarrow will become a required dependency of pandas in the next major release of pandas (pandas 3.0),\n",
      "(to allow more performant data types, such as the Arrow string type, and better interoperability with other libraries)\n",
      "but was not found to be installed on your system.\n",
      "If this would cause problems for you,\n",
      "please provide us feedback at https://github.com/pandas-dev/pandas/issues/54466\n",
      "        \n",
      "  import pandas as pd\n"
     ]
    }
   ],
   "source": [
    "key=\"7NvUEUX4tnzOja5KQ99gmUG37DQOV9oelvz1akWAr2Zts9X57djRMwbvfgjQoykp\"\n",
    "secret=\"X9CWCXNsdypjEU8Q0AQaoaqPrcnaX4wpDe5KVxsAfThkVJJAvufiGJ3tb95QqnQC\"\n",
    "\n",
    "# key api test2\n",
    "import time\n",
    "from binance_ft.um_futures import UMFutures\n",
    "um_futures_client = UMFutures(key=key, secret=secret)\n",
    "# um_futures_client = UMFutures(key=key, secret=secret, base_url=\"https://testnet.binancefuture.com\")\n",
    "\n",
    "from binance.spot import Spot\n",
    "spot_client = Spot(api_key=key, api_secret=secret)\n",
    "import pandas as pd\n",
    "import os\n",
    "\n"
   ]
  },
  {
   "cell_type": "code",
   "execution_count": 3,
   "metadata": {},
   "outputs": [
    {
     "name": "stdout",
     "output_type": "stream",
     "text": [
      "future_info {'filterType': 'LOT_SIZE', 'maxQty': '50000000', 'stepSize': '1', 'minQty': '1'}\n",
      "spot_info {'filterType': 'LOT_SIZE', 'minQty': '0.10000000', 'maxQty': '92141578.00000000', 'stepSize': '0.10000000'}\n"
     ]
    },
    {
     "data": {
      "text/plain": [
       "(0.011072, 0.011078, 0.011075, 0.01106336)"
      ]
     },
     "execution_count": 3,
     "metadata": {},
     "output_type": "execute_result"
    }
   ],
   "source": [
    "\n",
    "pair = \"JASMYUSDT\"\n",
    "pair_spot = pair.replace(\"USDT\", \"USDT\")\n",
    "\n",
    "future_info = um_futures_client.exchange_info()['symbols']\n",
    "kk = [i['filters'] for i in future_info if i['symbol'] == pair][0][1]\n",
    "print(\"future_info\", kk)\n",
    "\n",
    "print(\"spot_info\", spot_client.exchange_info(pair_spot)['symbols'][0]['filters'][1])\n",
    "\n",
    "bid_spot = float(spot_client.book_ticker(pair_spot)['bidPrice'])\n",
    "ask_spot = float(spot_client.book_ticker(pair_spot)['askPrice'])\n",
    "\n",
    "mark_price = float(spot_client.ticker_price(pair_spot)['price'])\n",
    "mark_ft = float(um_futures_client.mark_price(pair)['markPrice'])\n",
    "bid_spot, mark_price, ask_spot, mark_ft\n"
   ]
  },
  {
   "cell_type": "code",
   "execution_count": null,
   "metadata": {},
   "outputs": [],
   "source": [
    "# spot_client.cancel_open_orders(symbol=pair_spot)"
   ]
  },
  {
   "cell_type": "code",
   "execution_count": 26,
   "metadata": {},
   "outputs": [
    {
     "name": "stdout",
     "output_type": "stream",
     "text": [
      "order ft at 0.014393\n",
      "ft_order_id = 2747858775\n",
      "price_ft = 0.014393\n",
      "usdt_value_ft = 50.015675\n",
      "executedQty_future = 3475.0\n",
      "type_ft = LIMIT\n",
      "---------------------\n",
      "price_spot expect:  0.014405\n",
      "price_spot = 0.014405\n",
      "usdt_value_spot = 50.0156005\n",
      "executedQty_spot = 3472.1\n",
      "type_spot = LIMIT\n"
     ]
    }
   ],
   "source": [
    "# future truoc spot sau:\n",
    "precision_ft = 0\n",
    "precision_spot =1\n",
    "usdt = 50\n",
    "um_futures_client.change_leverage(symbol=pair, leverage=5, recvWindow=6000)\n",
    "\n",
    "# print(\"order spot at\", price_spot)\n",
    "\n",
    "\n",
    "now_ft_price = float(um_futures_client.mark_price(pair)['markPrice']) \n",
    "price_ft = now_ft_price+0.000003\n",
    "price_ft = round(price_ft, 6)\n",
    "time_start = time.strftime(\"%m-%d %H:%M:%S\")\n",
    "print(\"order ft at\", price_ft)\n",
    "\n",
    "quantity_ft = round((usdt)/now_ft_price, precision_ft)\n",
    "open_future = um_futures_client.new_order(symbol=pair, side=\"SELL\", type=\"LIMIT\", quantity=quantity_ft, price = price_ft, timeInForce=\"GTC\")\n",
    "\n",
    "# open_future = um_futures_client.new_order(symbol=pair, side=\"SELL\", type=\"MARKET\", quantity=quantity_ft)\n",
    "ft_order_id = open_future[\"orderId\"]\n",
    "print(\"ft_order_id =\", ft_order_id)\n",
    "while True:\n",
    "    res_query_ft = um_futures_client.query_order(symbol=pair, orderId=ft_order_id, recvWindow=6000)\n",
    "    if res_query_ft['status'] == \"FILLED\":\n",
    "        # avg_spot = float(spot_order['price'])\n",
    "        price_ft = float(res_query_ft['avgPrice'])\n",
    "        executedQty_future = float(res_query_ft['executedQty'])\n",
    "        usdt_value_ft = float(res_query_ft['cumQuote'])\n",
    "        print(\"price_ft =\", price_ft)\n",
    "        print(\"usdt_value_ft =\",usdt_value_ft)\n",
    "        print(\"executedQty_future =\", executedQty_future)\n",
    "        print(\"type_ft =\",res_query_ft['type'])\n",
    "        print(\"---------------------\")\n",
    "        price_spot = float(spot_client.ticker_price(pair_spot)['price'])\n",
    "        print(\"price_spot expect: \", price_spot)\n",
    "        quantity_spot = round(usdt_value_ft/price_spot,precision_spot)\n",
    "        open_spot = spot_client.new_order(symbol=pair_spot, side=\"BUY\", type=\"LIMIT\", quantity=quantity_spot, price=price_spot, timeInForce=\"GTC\")\n",
    "        order_id_spot = open_spot[\"orderId\"]\n",
    "        while True:\n",
    "            res_query_spot = spot_client.get_order(symbol=pair_spot, orderId=order_id_spot, recvWindow=6000)\n",
    "            if res_query_spot['status'] == \"FILLED\":\n",
    "                executedQty_spot = float(res_query_spot['executedQty'])\n",
    "                usdt_value_spot = float(res_query_spot['cummulativeQuoteQty'])\n",
    "                price_spot = float(res_query_spot['price'])\n",
    "                # print(\"spot:\", price_spot, usdt_value_spot, \"quantity:\", executedQty_spot, res_query_spot['type'])\n",
    "                print(\"price_spot =\", price_spot)\n",
    "                print(\"usdt_value_spot =\",usdt_value_spot)\n",
    "                print(\"executedQty_spot =\", executedQty_spot)\n",
    "                print(\"type_spot =\",res_query_spot['type'])\n",
    "                break\n",
    "            time.sleep(0.1)\n",
    "        break\n",
    "    time.sleep(0.1)"
   ]
  },
  {
   "cell_type": "code",
   "execution_count": 27,
   "metadata": {},
   "outputs": [
    {
     "name": "stdout",
     "output_type": "stream",
     "text": [
      "fee spot 0.07502340075\n",
      "fee_future 0.017005329500000003\n",
      "0.7827226553229414\n",
      "*****************************  02-21 23:32:36  ****************\n",
      "curret_ft 0.013492\n",
      "curret_spot 0.013616\n",
      "take order at:\n"
     ]
    }
   ],
   "source": [
    "file_hist = \"history.xlsx\"\n",
    "if not os.path.exists(file_hist):\n",
    "    df = pd.DataFrame(columns=[\"time_start\", \"pair\", \"price_open_spot\",\"usdt_spot\",\"price_open_future\",\"usdt_ft\", \"price_close_spot\", \"price_close_ft\", \"time_order\", \"time_close_spot\", \"time_close_ft\", \"pnl\", \"pnl_per_input\", \"thresh\", \"highest_ft\"])\n",
    "    df.to_excel(file_hist,index_label=\"stt\" )\n",
    "\n",
    "\n",
    "\n",
    "fee_open = 0.00075 # use busd\n",
    "fee_close = 0.00075\n",
    "\n",
    "fee_ft_open = 0.00017\n",
    "fee_ft_close = 0.00017\n",
    "all_fee_per = fee_open + fee_close +fee_ft_open+fee_ft_close\n",
    "fee_spot = (fee_open + fee_close)*usdt_value_spot\n",
    "fee_future = (fee_ft_open + fee_ft_close) * usdt_value_ft\n",
    "print(\"fee spot\", fee_spot)\n",
    "print(\"fee_future\", fee_future)\n",
    "thresh_profit = 0.0008\n",
    "\n",
    "while True:\n",
    "    # curret_ft = float(um_futures_client.mark_price(pair)['markPrice'])\n",
    "    # curret_spot = float(spot_client.ticker_price(pair_spot)['price'])\n",
    "\n",
    "\n",
    "    curret_ft = float(um_futures_client.book_ticker(pair)['askPrice'])  # > mark price\n",
    "    curret_spot = float(spot_client.book_ticker(pair_spot)['bidPrice'])  # < mark price\n",
    "\n",
    "    gap_ft = -(curret_ft - price_ft)/price_ft * 100\n",
    "    gap_spot = (curret_spot - price_spot)/price_spot * 100  \n",
    "\n",
    "    if gap_spot + gap_ft > 0.25:\n",
    "        print(gap_spot + gap_ft)\n",
    "\n",
    "    pnl_ft = (price_ft - curret_ft)/price_ft * usdt_value_ft\n",
    "    pnl_spot = (curret_spot-price_spot)/price_spot * usdt_value_spot\n",
    "    \n",
    "    # print(\"pnl ft: \" ,pnl_ft, \"pnl_spot\", pnl_spot)\n",
    "\n",
    "    # print(\"pnl:\",pnl_spot + pnl_ft - fee_spot - fee_future)\n",
    "    \n",
    "    if pnl_spot + pnl_ft - fee_spot - fee_future > usdt_value_spot * thresh_profit :\n",
    "        # clo\\\n",
    "        #  nbbbvse position\n",
    "        close_future =  um_futures_client.new_order(symbol=pair, side=\"BUY\", type=\"LIMIT\", quantity=executedQty_future, price = curret_ft, timeInForce=\"GTC\")\n",
    "\n",
    "        # close_future = um_futures_client.new_order(symbol=pair,side=\"BUY\",type=\"MARKET\",quantity=executedQty_future)\n",
    "        close_spot = spot_client.new_order(symbol=pair_spot, side=\"SELL\", type=\"LIMIT\", quantity=executedQty_spot, price=curret_spot, timeInForce=\"GTC\")\n",
    "        close_future_id=close_future['orderId']\n",
    "        close_spot_id=close_spot['orderId']\n",
    "\n",
    "        \n",
    "        # close_future = um_futures_client.new_order(symbol=pair,side=\"BUY\",type=\"MARKET\",quantity=executedQty_future)\n",
    "        # close_spot = spot_client.new_order(symbol=pair_spot,side=\"SELL\",type=\"MARKET\",quantity=executedQty_spot)\n",
    "        time_order_close = time.strftime(\"%m-%d %H:%M:%S\")\n",
    "        print(\"***************************** \", time_order_close, \" ****************\")\n",
    "        print(\"curret_ft\", curret_ft)\n",
    "        print(\"curret_spot\", curret_spot)\n",
    "        time.sleep(1)\n",
    "        print(\"take order at:\")\n",
    "        time_done_spot = None\n",
    "        time_done_ft = None\n",
    "\n",
    "        while True:\n",
    "            status_ft_close = um_futures_client.get_account_trades(symbol=pair, orderId=close_future_id)\n",
    "            status_spot_close = spot_client.get_order(symbol=pair_spot, orderId=close_spot_id, recvWindow=6000)\n",
    "            highest_price_ft_when_close = 0\n",
    "            if status_spot_close['status'] == \"FILLED\":\n",
    "                if time_done_spot is None :\n",
    "                    time_done_spot = time.strftime(\"%m-%d %H:%M:%S\")\n",
    "                rate_ft = float(um_futures_client.mark_price(pair)['markPrice'])/curret_ft\n",
    "                if rate_ft > highest_price_ft_when_close:\n",
    "                    highest_price_ft_when_close = rate_ft\n",
    "            if len(status_ft_close) and time_done_ft is None:\n",
    "                time_done_ft = time.strftime(\"%m-%d %H:%M:%S\")\n",
    "            if status_spot_close['status'] == \"FILLED\" and len(status_ft_close):\n",
    "                price_ft_close_real = float(status_ft_close[0]['price'])\n",
    "                # price_spot_close_real = float(close_spot['fills'][0]['price'])\n",
    "                price_spot_close_real = curret_spot\n",
    "                print(\"ft:\", price_ft_close_real, \"--at--\", time_done_ft )\n",
    "                print(\"spot:\", price_spot_close_real,\"--at--\", time_done_spot )\n",
    "                print(\"pnl estimate: \", pnl_spot + pnl_ft - fee_spot - fee_future)\n",
    "                gap = -(curret_ft - price_ft)/price_ft * 100 + (curret_spot - price_spot)/price_spot * 100\n",
    "                if gap_spot > 0:\n",
    "                    print(\"---> tang\", gap,\"%\")\n",
    "                else:\n",
    "                    print(\"---> giam\", gap,\"%\")\n",
    "                break\n",
    "            else:\n",
    "                time.sleep(0.1)\n",
    "\n",
    "        break\n",
    "    time.sleep(0.3)\n",
    "\n",
    "    # calculate profit\n",
    "BNB_price = float(spot_client.ticker_price(\"BNBUSDT\")['price'])\n",
    "\n",
    "# outcome_spot = sum([float(i['qty']) * float(i['price']) for i in close_spot['fills']]) #taker\n",
    "outcome_spot = float(status_spot_close['cummulativeQuoteQty']) #maker\n",
    "\n",
    "res_ft_close = um_futures_client.get_account_trades(symbol=pair, orderId=close_future_id)\n",
    "res_ft_open = um_futures_client.get_account_trades(symbol=pair, orderId=ft_order_id)\n",
    "\n",
    "# assert float(res_ft_close[\"qty\"]) == quantity_ft and float(res_ft_open[\"qty\"]) == quantity_ft\n",
    "# commision_close_spot = sum([float(i['commission']) for i in close_spot['fills']])*BNB_price\n",
    "commision_close_spot = usdt_value_spot * 0.00075\n",
    "commision_close_future = sum([float(res['commission']) for res in res_ft_close])*BNB_price\n",
    "commision_open_future = sum([float(res['commission']) for res in res_ft_open])*BNB_price\n",
    "\n",
    "pnl_ft =  sum([float(res['realizedPnl']) for res in res_ft_close])\n",
    "pnl_spot = outcome_spot -  usdt_value_spot\n",
    "all_profit = pnl_ft + pnl_spot - commision_close_future - commision_close_spot*2 - commision_open_future\n",
    "print(\"profit real: \",all_profit)\n",
    "\n",
    "\n",
    "\n",
    "df = pd.read_excel(file_hist, index_col=\"stt\")\n",
    "df.loc[len(df)] = [time_start, pair, price_spot, usdt_value_spot, price_ft, usdt_value_ft, price_spot_close_real, price_ft_close_real, time_order_close, time_done_spot, time_done_ft, round(all_profit,4), round(all_profit/usdt_value_spot*100, 4), thresh_profit, (highest_price_ft_when_close-1)*100]\n",
    "\n",
    "df.to_excel(file_hist,index_label=\"stt\")\n",
    "\n",
    "    "
   ]
  },
  {
   "cell_type": "code",
   "execution_count": null,
   "metadata": {},
   "outputs": [],
   "source": [
    "# (curret_spot - price_spot)/price_spot +   -(curret_ft - price_ft)/price_ft\n",
    "# (float(close_spot['fills'][0]['price']) - price_spot)/price_spot +   -(float(um_futures_client.get_account_trades(symbol=pair, orderId=close_future['orderId'])[0]['price']) - price_ft)/price_ft\n",
    "# close_future = um_futures_client.new_order(symbol=pair,side=\"BUY\",type=\"MARKET\",quantity=executedQty_future)\n",
    "# close_spot = spot_client.new_order(symbol=pair_spot,side=\"SELL\",type=\"MARKET\",quantity=executedQty_spot)\n"
   ]
  },
  {
   "cell_type": "code",
   "execution_count": null,
   "metadata": {},
   "outputs": [],
   "source": [
    "# response = um_futures_client.get_account_trades(symbol=pair,orderId=ft_order_id, recvWindow=6000)\n",
    "# BNB_price = float(spot_client.ticker_price(\"BNBUSDT\")['price'])\n",
    "# float(response[0]['commission']) * BNB_price / usdt_value_ft"
   ]
  },
  {
   "cell_type": "code",
   "execution_count": null,
   "metadata": {},
   "outputs": [],
   "source": [
    "commision_close_future / (0.03931*280)*100"
   ]
  }
 ],
 "metadata": {
  "kernelspec": {
   "display_name": "Python 3",
   "language": "python",
   "name": "python3"
  },
  "language_info": {
   "codemirror_mode": {
    "name": "ipython",
    "version": 3
   },
   "file_extension": ".py",
   "mimetype": "text/x-python",
   "name": "python",
   "nbconvert_exporter": "python",
   "pygments_lexer": "ipython3",
   "version": "3.10.12"
  },
  "orig_nbformat": 4
 },
 "nbformat": 4,
 "nbformat_minor": 2
}

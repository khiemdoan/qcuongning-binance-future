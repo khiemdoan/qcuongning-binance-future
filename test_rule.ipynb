{
 "cells": [
  {
   "cell_type": "code",
   "execution_count": 1,
   "metadata": {},
   "outputs": [],
   "source": [
    "import requests\n",
    "import pandas as pd\n",
    "from datetime import datetime\n",
    "import numpy as np\n",
    "import xgboost as xgb\n",
    "from sklearn.model_selection import train_test_split\n",
    "from sklearn.metrics import precision_score, recall_score, confusion_matrix, ConfusionMatrixDisplay, accuracy_score\n",
    "import matplotlib.pyplot as plt\n",
    "from datetime import datetime, timedelta\n",
    "from xgboost_order import process_kline, inference\n",
    "from helper import get_binance_ohlc_time, generate_date_list, calculate_rsi_with_ema, is_decrease, is_pin_bar\n"
   ]
  },
  {
   "cell_type": "code",
   "execution_count": 3,
   "metadata": {},
   "outputs": [
    {
     "data": {
      "text/plain": [
       "array([0.54214973, 0.45785027])"
      ]
     },
     "execution_count": 3,
     "metadata": {},
     "output_type": "execute_result"
    }
   ],
   "source": [
    "# Given data\n",
    "import numpy as np\n",
    "\n",
    "# Word embeddings\n",
    "w1 = np.array([0.1, 0.3, 0.2])\n",
    "w2 = np.array([0.3, 0.4, 0.7])\n",
    "w3 = np.array([0.1, 0.2, 0.8])\n",
    "\n",
    "# Input sentence S\n",
    "S = [w2, w3]  # S = w2 w3\n",
    "\n",
    "# Initial hidden state\n",
    "h0 = np.array([1, 1, 1])\n",
    "\n",
    "# RNN cell parameters\n",
    "def rnn_cell(ht_1, xt):\n",
    "    return np.tanh(0.2 * ht_1 + 0.8 * xt)\n",
    "\n",
    "# Calculate hidden states\n",
    "hidden_states = [h0]  # List to hold hidden states\n",
    "for xt in S:\n",
    "    ht = rnn_cell(hidden_states[-1], xt)  # Compute the new hidden state\n",
    "    hidden_states.append(ht)  # Append to the list of hidden states\n",
    "\n",
    "# Hidden states after processing the inputs\n",
    "hidden_states = np.round(np.array(hidden_states), 2)  # Round to 2 decimal places\n",
    "hidden_states\n",
    "# Linear layer weights\n",
    "W = np.array([[0.1, 0.4, 0.5],\n",
    "              [0.2, 0.7, 0.1]])\n",
    "\n",
    "# Output from the linear layer\n",
    "output = np.dot(W, hidden_states[-1])  # Using h2 (last hidden state)\n",
    "\n",
    "# Apply softmax\n",
    "def softmax(x):\n",
    "    exp_x = np.exp(x - np.max(x))  # Subtract max for numerical stability\n",
    "    return exp_x / exp_x.sum(axis=0)\n",
    "\n",
    "# Calculate softmax output\n",
    "softmax_output = softmax(output)\n",
    "softmax_output\n"
   ]
  },
  {
   "cell_type": "code",
   "execution_count": 2,
   "metadata": {},
   "outputs": [],
   "source": [
    "\n",
    "\n",
    "\n",
    "def rule(df_btc, df, tp=1, sl=5, money=1000, model = None, num_random=10000, window_test=10, seq=30, time_pred=10, manual_cond=False):\n",
    "    dfcopy = df.copy()\n",
    "    number_high = 0\n",
    "    number_low = 0\n",
    "    cannot_break = 0\n",
    "    results = []\n",
    "    list_reward = []\n",
    "    balance = 0\n",
    "    price_line = []\n",
    "\n",
    "    index_condition = []\n",
    "    if model is None:\n",
    "        index_condition = np.random.randint(100, len(df), num_random)\n",
    "    else:\n",
    "        for i in range(seq+1, len(df)-1, window_test):\n",
    "            x_array = df.loc[i-seq:i-1, [\"open\", \"high\", \"low\", \"close\", \"volumn\"]].to_numpy()\n",
    "            x_array_cp = x_array.copy()\n",
    "            rsi_6 = calculate_rsi_with_ema(x_array, 6)\n",
    "            y_pred_prob = inference(x_array, model)\n",
    "            if y_pred_prob == 1:\n",
    "                if manual_cond:\n",
    "                    # if is_decrease(x_array_cp[-1]) or is_decrease(x_array_cp[-2]) or is_pin_bar(x_array_cp[-1]): \n",
    "                    if rsi_6[-1] > 20 and rsi_6[-2] > 20:\n",
    "                        index_condition.append(i)\n",
    "                else:\n",
    "                    index_condition.append(i)\n",
    "    index_condition = sorted(index_condition)\n",
    "    for i in index_condition:\n",
    "        open_price_i = df['open'].iloc[i]\n",
    "        high_check = False\n",
    "        low_check = False\n",
    "        open_time = df.iloc[i]['timestamp']\n",
    "        if time_pred == \"all\":\n",
    "            end = len(df)\n",
    "        else:\n",
    "            end = i+time_pred\n",
    "        for j in range(i,end):\n",
    "            if j >= len(df):\n",
    "                break\n",
    "            high_check = df['high'].iloc[j] >= (1+sl*0.01) * open_price_i\n",
    "            low_check = df['low'].iloc[j] <= (1-tp*0.01) * open_price_i\n",
    "            if high_check and low_check:\n",
    "                print(\"check lai\")\n",
    "                break\n",
    "            if high_check:\n",
    "                balance += -money*sl/100\n",
    "                list_reward.append(balance)\n",
    "                price_line.append(j)\n",
    "                number_high+=1\n",
    "                results.append((i, open_time,j, df.iloc[j]['timestamp'],open_price_i, \"high\"))\n",
    "                break\n",
    "            if low_check:\n",
    "                price_line.append(j)\n",
    "                balance += money*tp/100\n",
    "                list_reward.append(balance)\n",
    "                number_low+=1\n",
    "                # print(df.iloc[i])\n",
    "                # print(\"low\", j-i)\n",
    "                results.append((i, open_time,j, df.iloc[j]['timestamp'], open_price_i, \"low\"))\n",
    "                break\n",
    "        if not high_check and not low_check and j<len(df):\n",
    "            if df.iloc[j]['close'] < open_price_i:\n",
    "                pnl = money * (1 - df.iloc[j]['close'] / open_price_i)\n",
    "                # if df.iloc[i:j]['low'].min() < open_price_i * 0.99:\n",
    "                #     high_check2 = False\n",
    "                #     low_check2 = False\n",
    "                #     print(\"continue wait to tp\", open_time, i)\n",
    "                    # for j in range(i,len(df)):\n",
    "                    #     high_check2 = df['high'].iloc[j] >= (1+sl*0.01) * open_price_i\n",
    "                    #     low_check2 = df['low'].iloc[j] <= (1-tp*0.01) * open_price_i\n",
    "                    #     if high_check2:\n",
    "                    #         pnl = -money*sl/100\n",
    "                    #         break\n",
    "                    #     elif low_check2:\n",
    "                    #         pnl = money*tp/100\n",
    "                    #         break\n",
    "                    # if not high_check2 and not low_check2:\n",
    "                    #     pnl = money * (1 - df.iloc[j]['close'] / open_price_i)\n",
    "\n",
    "                \n",
    "                balance += pnl\n",
    "            else:\n",
    "                pnl = -money * (df.iloc[j]['close'] / open_price_i-1)\n",
    "                balance += pnl\n",
    "            list_reward.append(balance)\n",
    "            price_line.append(j)\n",
    "            results.append((i, open_time,j, \"not\",open_price_i, df.iloc[j]['close'], round(pnl, 2)))\n",
    "            cannot_break += 1\n",
    "    prices_list = df.loc[price_line, 'open'].tolist()\n",
    "\n",
    "    print(\"num points: \", len(index_condition), \"number_low/all_point\", round(number_low/(number_low+number_high+0.01), 3), \"cannot_break\", cannot_break)\n",
    "\n",
    "    return results, index_condition, number_high, number_low, list_reward, prices_list"
   ]
  },
  {
   "cell_type": "code",
   "execution_count": 5,
   "metadata": {},
   "outputs": [
    {
     "name": "stdout",
     "output_type": "stream",
     "text": [
      "num points:  1000 number_low/all_point 0.5 cannot_break 829\n"
     ]
    },
    {
     "data": {
      "text/plain": [
       "791.0971040771642"
      ]
     },
     "execution_count": 5,
     "metadata": {},
     "output_type": "execute_result"
    }
   ],
   "source": [
    "df = pd.read_csv(\"./data_his/ORDIUSDT_2023-06-01_2024-10-17_15m_fapiv1.csv\")\n",
    "df = df.iloc[-5000:].reset_index()\n",
    "rs2, idcond, high_check, low_check, list_reward, prices_list = rule(df, df, tp=3, sl=3, model=None, num_random=1000, window_test=1, seq=30, time_pred= 10,manual_cond=True)\n",
    "\n",
    "list_reward[-1]\n"
   ]
  },
  {
   "cell_type": "code",
   "execution_count": 1,
   "metadata": {},
   "outputs": [
    {
     "ename": "NameError",
     "evalue": "name 'xgb' is not defined",
     "output_type": "error",
     "traceback": [
      "\u001b[0;31m---------------------------------------------------------------------------\u001b[0m",
      "\u001b[0;31mNameError\u001b[0m                                 Traceback (most recent call last)",
      "Cell \u001b[0;32mIn[1], line 1\u001b[0m\n\u001b[0;32m----> 1\u001b[0m bst \u001b[39m=\u001b[39m xgb\u001b[39m.\u001b[39mBooster()\n\u001b[1;32m      2\u001b[0m bst\u001b[39m.\u001b[39mload_model(\u001b[39m'\u001b[39m\u001b[39m./ORDIUSDT_15m_tp3_sl3_60pcent_mancond_fapiv1.json\u001b[39m\u001b[39m'\u001b[39m)\n",
      "\u001b[0;31mNameError\u001b[0m: name 'xgb' is not defined"
     ]
    }
   ],
   "source": [
    "bst = xgb.Booster()\n",
    "bst.load_model('./ORDIUSDT_15m_tp3_sl3_60pcent_mancond_fapiv1.json')\n"
   ]
  },
  {
   "cell_type": "code",
   "execution_count": 5,
   "metadata": {},
   "outputs": [
    {
     "name": "stdout",
     "output_type": "stream",
     "text": [
      "num points:  395 number_low/all_point 0.561 cannot_break 265\n"
     ]
    },
    {
     "data": {
      "text/plain": [
       "1130.90883171316"
      ]
     },
     "execution_count": 5,
     "metadata": {},
     "output_type": "execute_result"
    }
   ],
   "source": [
    "df = pd.read_csv(\"./data_his/ORDIUSDT_2023-06-01_2024-10-17_15m_fapiv1.csv\")\n",
    "df = df.iloc[18000:].reset_index(drop=True)\n",
    "rs2, idcond, high_check, low_check, list_reward, prices_list = rule(df, df, tp=3, sl=3, model=bst, num_random=100, window_test=1, seq=30, time_pred=10,manual_cond=True)\n",
    "list_reward[-1]\n"
   ]
  },
  {
   "cell_type": "code",
   "execution_count": 8,
   "metadata": {},
   "outputs": [
    {
     "data": {
      "text/html": [
       "<div>\n",
       "<style scoped>\n",
       "    .dataframe tbody tr th:only-of-type {\n",
       "        vertical-align: middle;\n",
       "    }\n",
       "\n",
       "    .dataframe tbody tr th {\n",
       "        vertical-align: top;\n",
       "    }\n",
       "\n",
       "    .dataframe thead th {\n",
       "        text-align: right;\n",
       "    }\n",
       "</style>\n",
       "<table border=\"1\" class=\"dataframe\">\n",
       "  <thead>\n",
       "    <tr style=\"text-align: right;\">\n",
       "      <th></th>\n",
       "      <th>index</th>\n",
       "      <th>timestamp</th>\n",
       "      <th>open</th>\n",
       "      <th>high</th>\n",
       "      <th>low</th>\n",
       "      <th>close</th>\n",
       "      <th>volumn</th>\n",
       "    </tr>\n",
       "  </thead>\n",
       "  <tbody>\n",
       "    <tr>\n",
       "      <th>0</th>\n",
       "      <td>27988</td>\n",
       "      <td>2024-08-25 08:30:00</td>\n",
       "      <td>35.224</td>\n",
       "      <td>35.254</td>\n",
       "      <td>34.633</td>\n",
       "      <td>34.717</td>\n",
       "      <td>274889.5</td>\n",
       "    </tr>\n",
       "    <tr>\n",
       "      <th>1</th>\n",
       "      <td>27989</td>\n",
       "      <td>2024-08-25 08:45:00</td>\n",
       "      <td>34.720</td>\n",
       "      <td>34.921</td>\n",
       "      <td>34.530</td>\n",
       "      <td>34.849</td>\n",
       "      <td>121015.0</td>\n",
       "    </tr>\n",
       "    <tr>\n",
       "      <th>2</th>\n",
       "      <td>27990</td>\n",
       "      <td>2024-08-25 09:00:00</td>\n",
       "      <td>34.850</td>\n",
       "      <td>35.068</td>\n",
       "      <td>34.840</td>\n",
       "      <td>35.009</td>\n",
       "      <td>72859.2</td>\n",
       "    </tr>\n",
       "    <tr>\n",
       "      <th>3</th>\n",
       "      <td>27991</td>\n",
       "      <td>2024-08-25 09:15:00</td>\n",
       "      <td>35.010</td>\n",
       "      <td>35.076</td>\n",
       "      <td>34.944</td>\n",
       "      <td>34.977</td>\n",
       "      <td>69562.6</td>\n",
       "    </tr>\n",
       "    <tr>\n",
       "      <th>4</th>\n",
       "      <td>27992</td>\n",
       "      <td>2024-08-25 09:30:00</td>\n",
       "      <td>34.978</td>\n",
       "      <td>35.257</td>\n",
       "      <td>34.932</td>\n",
       "      <td>35.249</td>\n",
       "      <td>41590.6</td>\n",
       "    </tr>\n",
       "    <tr>\n",
       "      <th>...</th>\n",
       "      <td>...</td>\n",
       "      <td>...</td>\n",
       "      <td>...</td>\n",
       "      <td>...</td>\n",
       "      <td>...</td>\n",
       "      <td>...</td>\n",
       "      <td>...</td>\n",
       "    </tr>\n",
       "    <tr>\n",
       "      <th>4995</th>\n",
       "      <td>32983</td>\n",
       "      <td>2024-10-16 09:15:00</td>\n",
       "      <td>38.713</td>\n",
       "      <td>38.730</td>\n",
       "      <td>38.192</td>\n",
       "      <td>38.204</td>\n",
       "      <td>88388.8</td>\n",
       "    </tr>\n",
       "    <tr>\n",
       "      <th>4996</th>\n",
       "      <td>32984</td>\n",
       "      <td>2024-10-16 09:30:00</td>\n",
       "      <td>38.201</td>\n",
       "      <td>38.381</td>\n",
       "      <td>38.081</td>\n",
       "      <td>38.124</td>\n",
       "      <td>52634.9</td>\n",
       "    </tr>\n",
       "    <tr>\n",
       "      <th>4997</th>\n",
       "      <td>32985</td>\n",
       "      <td>2024-10-16 09:45:00</td>\n",
       "      <td>38.124</td>\n",
       "      <td>38.225</td>\n",
       "      <td>37.921</td>\n",
       "      <td>37.987</td>\n",
       "      <td>50395.6</td>\n",
       "    </tr>\n",
       "    <tr>\n",
       "      <th>4998</th>\n",
       "      <td>32986</td>\n",
       "      <td>2024-10-16 10:00:00</td>\n",
       "      <td>37.983</td>\n",
       "      <td>38.189</td>\n",
       "      <td>37.940</td>\n",
       "      <td>38.039</td>\n",
       "      <td>49264.8</td>\n",
       "    </tr>\n",
       "    <tr>\n",
       "      <th>4999</th>\n",
       "      <td>32987</td>\n",
       "      <td>2024-10-16 10:15:00</td>\n",
       "      <td>38.039</td>\n",
       "      <td>38.040</td>\n",
       "      <td>37.796</td>\n",
       "      <td>37.922</td>\n",
       "      <td>45727.0</td>\n",
       "    </tr>\n",
       "  </tbody>\n",
       "</table>\n",
       "<p>5000 rows × 7 columns</p>\n",
       "</div>"
      ],
      "text/plain": [
       "      index            timestamp    open    high     low   close    volumn\n",
       "0     27988  2024-08-25 08:30:00  35.224  35.254  34.633  34.717  274889.5\n",
       "1     27989  2024-08-25 08:45:00  34.720  34.921  34.530  34.849  121015.0\n",
       "2     27990  2024-08-25 09:00:00  34.850  35.068  34.840  35.009   72859.2\n",
       "3     27991  2024-08-25 09:15:00  35.010  35.076  34.944  34.977   69562.6\n",
       "4     27992  2024-08-25 09:30:00  34.978  35.257  34.932  35.249   41590.6\n",
       "...     ...                  ...     ...     ...     ...     ...       ...\n",
       "4995  32983  2024-10-16 09:15:00  38.713  38.730  38.192  38.204   88388.8\n",
       "4996  32984  2024-10-16 09:30:00  38.201  38.381  38.081  38.124   52634.9\n",
       "4997  32985  2024-10-16 09:45:00  38.124  38.225  37.921  37.987   50395.6\n",
       "4998  32986  2024-10-16 10:00:00  37.983  38.189  37.940  38.039   49264.8\n",
       "4999  32987  2024-10-16 10:15:00  38.039  38.040  37.796  37.922   45727.0\n",
       "\n",
       "[5000 rows x 7 columns]"
      ]
     },
     "execution_count": 8,
     "metadata": {},
     "output_type": "execute_result"
    }
   ],
   "source": [
    "df"
   ]
  },
  {
   "cell_type": "code",
   "execution_count": 23,
   "metadata": {},
   "outputs": [
    {
     "data": {
      "text/plain": [
       "[(100, '2024-10-02 01:15:00', 106, '2024-10-02 02:45:00', 34.96, 'low'),\n",
       " (141, '2024-10-02 11:30:00', 150, 'not', 33.724, 34.289, -16.75),\n",
       " (309, '2024-10-04 05:30:00', 318, 'not', 32.135, 31.897, 7.41),\n",
       " (312, '2024-10-04 06:15:00', 321, 'not', 32.244, 32.585, -10.58),\n",
       " (474, '2024-10-05 22:45:00', 483, 'not', 33.582, 33.359, 6.64),\n",
       " (556, '2024-10-06 19:15:00', 565, 'not', 35.58, 35.821, -6.77),\n",
       " (557, '2024-10-06 19:30:00', 566, 'not', 35.888, 35.836, 1.45),\n",
       " (558, '2024-10-06 19:45:00', 567, 'not', 35.774, 35.843, -1.93),\n",
       " (559, '2024-10-06 20:00:00', 568, 'not', 35.951, 36.01, -1.64),\n",
       " (561, '2024-10-06 20:30:00', 570, 'not', 35.856, 36.627, -21.5),\n",
       " (562, '2024-10-06 20:45:00', 571, 'not', 36.275, 36.555, -7.72),\n",
       " (729, '2024-10-08 14:30:00', 738, 'not', 35.573, 35.647, -2.08),\n",
       " (730, '2024-10-08 14:45:00', 739, 'not', 35.669, 35.516, 4.29),\n",
       " (758, '2024-10-08 21:45:00', 767, 'not', 35.289, 34.935, 10.03),\n",
       " (759, '2024-10-08 22:00:00', 761, '2024-10-08 22:30:00', 35.467, 'low'),\n",
       " (799, '2024-10-09 08:00:00', 808, 'not', 34.94, 35.093, -4.38),\n",
       " (832, '2024-10-09 16:15:00', 841, 'not', 35.054, 34.702, 10.04),\n",
       " (997, '2024-10-11 09:30:00', 1006, 'not', 33.606, 33.481, 3.72),\n",
       " (998, '2024-10-11 09:45:00', 1007, 'not', 33.627, 33.45, 5.26),\n",
       " (1030, '2024-10-11 17:45:00', 1039, 'not', 33.456, 33.808, -10.52),\n",
       " (1038, '2024-10-11 19:45:00', 1047, 'not', 33.869, 34.411, -16.0),\n",
       " (1039, '2024-10-11 20:00:00', 1048, 'not', 34.076, 34.209, -3.9),\n",
       " (1040, '2024-10-11 20:15:00', 1049, 'not', 33.809, 34.119, -9.17),\n",
       " (1049, '2024-10-11 22:30:00', 1058, 'not', 34.209, 34.702, -14.41),\n",
       " (1129, '2024-10-12 18:30:00', 1138, 'not', 36.133, 35.532, 16.63),\n",
       " (1132, '2024-10-12 19:15:00', 1141, 'not', 35.568, 35.713, -4.08),\n",
       " (1221, '2024-10-13 17:30:00', 1230, 'not', 35.485, 35.181, 8.57),\n",
       " (1226, '2024-10-13 18:45:00', 1235, 'not', 35.015, 34.824, 5.45),\n",
       " (1268, '2024-10-14 05:15:00', 1277, 'not', 35.391, 35.002, 10.99),\n",
       " (1284, '2024-10-14 09:15:00', 1288, '2024-10-14 10:15:00', 34.884, 'high'),\n",
       " (1286, '2024-10-14 09:45:00', 1288, '2024-10-14 10:15:00', 35.032, 'high'),\n",
       " (1292, '2024-10-14 11:15:00', 1301, 'not', 36.422, 36.337, 2.33),\n",
       " (1293, '2024-10-14 11:30:00', 1302, 'not', 36.458, 36.474, -0.44),\n",
       " (1295, '2024-10-14 12:00:00', 1304, 'not', 36.55, 36.468, 2.24),\n",
       " (1335, '2024-10-14 22:00:00', 1344, 'not', 37.941, 38.137, -5.17),\n",
       " (1339, '2024-10-14 23:00:00', 1348, 'not', 38.219, 38.503, -7.43),\n",
       " (1344, '2024-10-15 00:15:00', 1353, 'not', 38.164, 38.664, -13.1),\n",
       " (1349, '2024-10-15 01:30:00', 1358, 'not', 38.502, 39.017, -13.38),\n",
       " (1350, '2024-10-15 01:45:00', 1359, 'not', 38.534, 39.212, -17.59),\n",
       " (1422, '2024-10-15 19:45:00', 1426, '2024-10-15 20:45:00', 37.929, 'high'),\n",
       " (1430, '2024-10-15 21:45:00', 1431, '2024-10-15 22:00:00', 36.853, 'low'),\n",
       " (1431, '2024-10-15 22:00:00', 1437, '2024-10-15 23:30:00', 36.719, 'high'),\n",
       " (1434, '2024-10-15 22:45:00', 1437, '2024-10-15 23:30:00', 37.032, 'high')]"
      ]
     },
     "execution_count": 23,
     "metadata": {},
     "output_type": "execute_result"
    }
   ],
   "source": [
    "rs2"
   ]
  },
  {
   "cell_type": "code",
   "execution_count": 12,
   "metadata": {},
   "outputs": [
    {
     "data": {
      "image/png": "[encoded data removed]",
      "text/plain": [
       "<Figure size 640x480 with 2 Axes>"
      ]
     },
     "metadata": {},
     "output_type": "display_data"
    }
   ],
   "source": [
    "import matplotlib.pyplot as plt\n",
    "\n",
    "\n",
    "fig, ax1 = plt.subplots()\n",
    "\n",
    "ax1.plot(list_reward, 'b-', label='list_reward')\n",
    "ax1.set_xlabel('time')\n",
    "ax1.set_ylabel('list_reward', color='b')\n",
    "ax1.tick_params(axis='y', labelcolor='b')\n",
    "\n",
    "ax2 = ax1.twinx()\n",
    "ax2.plot(prices_list, 'r-', label='prices_list')\n",
    "ax2.set_ylabel('prices_list', color='r')\n",
    "ax2.tick_params(axis='y', labelcolor='r')\n",
    "\n",
    "\n",
    "fig.legend(loc='upper left', bbox_to_anchor=(0.1, 0.9))\n",
    "\n",
    "# plt.title('Two Lists with Different Scales')\n",
    "plt.show()"
   ]
  },
  {
   "cell_type": "code",
   "execution_count": null,
   "metadata": {},
   "outputs": [],
   "source": [
    "df = pd.read_csv(\"./data_his/ORDIUSDT_2024-08-11_2024-09-03_15m.csv\")\n",
    "df.rename(columns={'volumn': 'volume'}, inplace=True)\n",
    "\n",
    "df.set_index('timestamp', inplace=True)\n",
    "df.index = pd.to_datetime(df.index)\n"
   ]
  },
  {
   "cell_type": "code",
   "execution_count": null,
   "metadata": {},
   "outputs": [],
   "source": [
    "import mplfinance as mpf\n",
    "\n",
    "\n",
    "mpf.plot(df, type='candle', style='charles', volume=False, title=f\"K-Line Chart\", ylabel='Price (USDT)', figratio=(15, 8),  figscale=1)"
   ]
  },
  {
   "cell_type": "code",
   "execution_count": 177,
   "metadata": {},
   "outputs": [
    {
     "data": {
      "text/plain": [
       "0              NaN\n",
       "1              NaN\n",
       "2              NaN\n",
       "3              NaN\n",
       "4              NaN\n",
       "           ...    \n",
       "13147    40.783208\n",
       "13148    20.811626\n",
       "13149     9.460829\n",
       "13150    20.956983\n",
       "13151    60.911276\n",
       "Name: rsi_6, Length: 13152, dtype: float64"
      ]
     },
     "execution_count": 177,
     "metadata": {},
     "output_type": "execute_result"
    }
   ],
   "source": [
    "df['rsi_6']"
   ]
  },
  {
   "cell_type": "code",
   "execution_count": 158,
   "metadata": {},
   "outputs": [
    {
     "data": {
      "text/plain": [
       "[(105, '2024-06-05 22:30:00', '2024-06-06 00:45:00', 'not', -11.64),\n",
       " (243, '2024-06-07 09:00:00', '2024-06-07 10:45:00', 'high'),\n",
       " (260, '2024-06-07 13:15:00', '2024-06-07 15:30:00', 'low'),\n",
       " (262, '2024-06-07 13:45:00', '2024-06-07 15:00:00', 'low'),\n",
       " (263, '2024-06-07 14:00:00', '2024-06-07 15:00:00', 'low'),\n",
       " (267, '2024-06-07 15:00:00', '2024-06-07 17:15:00', 'not', 3.85),\n",
       " (268, '2024-06-07 15:15:00', '2024-06-07 17:30:00', 'not', -10.72),\n",
       " (274, '2024-06-07 16:45:00', '2024-06-07 19:00:00', 'not', -15.85),\n",
       " (288, '2024-06-07 20:15:00', '2024-06-07 22:30:00', 'not', 10.62),\n",
       " (302, '2024-06-07 23:45:00', '2024-06-08 00:00:00', 'low'),\n",
       " (399, '2024-06-09 00:00:00', '2024-06-09 02:15:00', 'not', 26.29),\n",
       " (400, '2024-06-09 00:15:00', '2024-06-09 02:30:00', 'not', 25.05),\n",
       " (535, '2024-06-10 10:00:00', '2024-06-10 10:45:00', 'low'),\n",
       " (536, '2024-06-10 10:15:00', '2024-06-10 10:45:00', 'low'),\n",
       " (556, '2024-06-10 15:15:00', '2024-06-10 17:30:00', 'not', -16.18),\n",
       " (620, '2024-06-11 07:15:00', '2024-06-11 08:45:00', 'low'),\n",
       " (770, '2024-06-12 20:45:00', '2024-06-12 22:30:00', 'low'),\n",
       " (771, '2024-06-12 21:00:00', '2024-06-12 22:45:00', 'low'),\n",
       " (772, '2024-06-12 21:15:00', '2024-06-12 22:30:00', 'low'),\n",
       " (776, '2024-06-12 22:15:00', '2024-06-12 23:00:00', 'low'),\n",
       " (777, '2024-06-12 22:30:00', '2024-06-12 23:15:00', 'low'),\n",
       " (778, '2024-06-12 22:45:00', '2024-06-12 23:30:00', 'low'),\n",
       " (857, '2024-06-13 18:30:00', '2024-06-13 20:45:00', 'not', 5.7),\n",
       " (860, '2024-06-13 19:15:00', '2024-06-13 19:30:00', 'high'),\n",
       " (864, '2024-06-13 20:15:00', '2024-06-13 22:15:00', 'low'),\n",
       " (865, '2024-06-13 20:30:00', '2024-06-13 22:00:00', 'low'),\n",
       " (984, '2024-06-15 02:15:00', '2024-06-15 04:30:00', 'high'),\n",
       " (1035, '2024-06-15 15:00:00', '2024-06-15 17:15:00', 'not', 4.39),\n",
       " (1059, '2024-06-15 21:00:00', '2024-06-15 23:15:00', 'not', -5.08),\n",
       " (1062, '2024-06-15 21:45:00', '2024-06-16 00:00:00', 'not', -1.76),\n",
       " (1648, '2024-06-22 00:15:00', '2024-06-22 00:15:00', 'low'),\n",
       " (1831, '2024-06-23 22:00:00', '2024-06-24 00:15:00', 'not', 9.36),\n",
       " (1926, '2024-06-24 21:45:00', '2024-06-25 00:00:00', 'not', 8.85),\n",
       " (2022, '2024-06-25 21:45:00', '2024-06-26 00:00:00', 'not', 15.78),\n",
       " (2028, '2024-06-25 23:15:00', '2024-06-26 01:30:00', 'not', -7.44),\n",
       " (2095, '2024-06-26 16:00:00', '2024-06-26 18:15:00', 'not', 2.39),\n",
       " (2099, '2024-06-26 17:00:00', '2024-06-26 19:15:00', 'not', 10.06),\n",
       " (2177, '2024-06-27 12:30:00', '2024-06-27 14:45:00', 'high'),\n",
       " (2259, '2024-06-28 09:00:00', '2024-06-28 11:15:00', 'not', 18.04),\n",
       " (2282, '2024-06-28 14:45:00', '2024-06-28 17:00:00', 'not', -11.34),\n",
       " (2289, '2024-06-28 16:30:00', '2024-06-28 18:45:00', 'not', 7.69),\n",
       " (2311, '2024-06-28 22:00:00', '2024-06-29 00:15:00', 'not', 1.81),\n",
       " (2406, '2024-06-29 21:45:00', '2024-06-30 00:00:00', 'not', 4.74),\n",
       " (2407, '2024-06-29 22:00:00', '2024-06-30 00:15:00', 'not', 1.0),\n",
       " (2408, '2024-06-29 22:15:00', '2024-06-30 00:30:00', 'not', -7.8),\n",
       " (2411, '2024-06-29 23:00:00', '2024-06-30 01:15:00', 'not', 3.25),\n",
       " (2412, '2024-06-29 23:15:00', '2024-06-30 01:30:00', 'not', 3.25),\n",
       " (2413, '2024-06-29 23:30:00', '2024-06-30 01:45:00', 'not', 1.75),\n",
       " (2414, '2024-06-29 23:45:00', '2024-06-30 02:00:00', 'not', 4.98),\n",
       " (2560, '2024-07-01 12:15:00', '2024-07-01 14:30:00', 'not', 5.57),\n",
       " (2622, '2024-07-02 03:45:00', '2024-07-02 06:00:00', 'not', 2.1),\n",
       " (2923, '2024-07-05 07:00:00', '2024-07-05 07:00:00', 'low'),\n",
       " (2924, '2024-07-05 07:15:00', '2024-07-05 07:30:00', 'low'),\n",
       " (2925, '2024-07-05 07:30:00', '2024-07-05 07:30:00', 'low'),\n",
       " (2926, '2024-07-05 07:45:00', '2024-07-05 09:45:00', 'low'),\n",
       " (2937, '2024-07-05 10:30:00', '2024-07-05 11:15:00', 'low'),\n",
       " (2939, '2024-07-05 11:00:00', '2024-07-05 11:15:00', 'high'),\n",
       " (2940, '2024-07-05 11:15:00', '2024-07-05 11:15:00', 'high'),\n",
       " (2941, '2024-07-05 11:30:00', '2024-07-05 13:45:00', 'not', 18.51),\n",
       " (2942, '2024-07-05 11:45:00', '2024-07-05 13:30:00', 'low'),\n",
       " (2943, '2024-07-05 12:00:00', '2024-07-05 14:15:00', 'not', 9.88)]"
      ]
     },
     "execution_count": 158,
     "metadata": {},
     "output_type": "execute_result"
    }
   ],
   "source": [
    "rs2"
   ]
  },
  {
   "cell_type": "code",
   "execution_count": 176,
   "metadata": {},
   "outputs": [],
   "source": [
    "data = df['close']\n",
    "rsi_ema = calculate_rsi_with_ema(data, window=6)\n",
    "df['rsi_6'] =  rsi_ema\n"
   ]
  },
  {
   "cell_type": "code",
   "execution_count": 181,
   "metadata": {},
   "outputs": [],
   "source": [
    "data=df.iloc[1000:1030]['close']"
   ]
  },
  {
   "cell_type": "code",
   "execution_count": 182,
   "metadata": {},
   "outputs": [],
   "source": [
    "rsi_ema = calculate_rsi_with_ema(data, window=6)\n"
   ]
  },
  {
   "cell_type": "code",
   "execution_count": 184,
   "metadata": {},
   "outputs": [
    {
     "data": {
      "text/plain": [
       "1000    58.539825\n",
       "1001    54.149001\n",
       "1002    70.935208\n",
       "1003    59.791309\n",
       "1004    68.461903\n",
       "1005    83.450538\n",
       "1006    84.153446\n",
       "1007    64.867548\n",
       "1008    84.613853\n",
       "1009    62.487453\n",
       "1010    76.098829\n",
       "1011    58.978589\n",
       "1012    49.278095\n",
       "1013    30.824078\n",
       "1014    28.523414\n",
       "1015    58.718836\n",
       "1016    67.066523\n",
       "1017    67.066523\n",
       "1018    45.860613\n",
       "1019    68.071090\n",
       "1020    82.094573\n",
       "1021    82.799664\n",
       "1022    49.832447\n",
       "1023    52.059365\n",
       "1024    80.266029\n",
       "1025    72.478841\n",
       "1026    79.101922\n",
       "1027    88.506324\n",
       "1028    89.299446\n",
       "1029    93.616374\n",
       "Name: rsi_6, dtype: float64"
      ]
     },
     "execution_count": 184,
     "metadata": {},
     "output_type": "execute_result"
    }
   ],
   "source": [
    "df.iloc[1000:1030]['rsi_6']"
   ]
  },
  {
   "cell_type": "code",
   "execution_count": 183,
   "metadata": {},
   "outputs": [
    {
     "data": {
      "text/plain": [
       "1000          NaN\n",
       "1001          NaN\n",
       "1002          NaN\n",
       "1003          NaN\n",
       "1004          NaN\n",
       "1005    89.811977\n",
       "1006    90.349369\n",
       "1007    65.985454\n",
       "1008    86.449008\n",
       "1009    62.688933\n",
       "1010    76.659449\n",
       "1011    58.989369\n",
       "1012    49.088740\n",
       "1013    30.472327\n",
       "1014    28.171231\n",
       "1015    58.720044\n",
       "1016    67.112329\n",
       "1017    67.112329\n",
       "1018    45.814115\n",
       "1019    68.091673\n",
       "1020    82.123071\n",
       "1021    82.827859\n",
       "1022    49.826359\n",
       "1023    52.055036\n",
       "1024    80.272001\n",
       "1025    72.482301\n",
       "1026    79.105797\n",
       "1027    88.509430\n",
       "1028    89.302414\n",
       "1029    93.618393\n",
       "Name: close, dtype: float64"
      ]
     },
     "execution_count": 183,
     "metadata": {},
     "output_type": "execute_result"
    }
   ],
   "source": [
    "rsi_ema"
   ]
  }
 ],
 "metadata": {
  "kernelspec": {
   "display_name": "Python 3",
   "language": "python",
   "name": "python3"
  },
  "language_info": {
   "codemirror_mode": {
    "name": "ipython",
    "version": 3
   },
   "file_extension": ".py",
   "mimetype": "text/x-python",
   "name": "python",
   "nbconvert_exporter": "python",
   "pygments_lexer": "ipython3",
   "version": "3.9.6"
  }
 },
 "nbformat": 4,
 "nbformat_minor": 2
}

{
 "cells": [
  {
   "cell_type": "code",
   "execution_count": 1,
   "metadata": {},
   "outputs": [],
   "source": [
    "import requests\n",
    "import pandas as pd\n",
    "from datetime import datetime\n",
    "import numpy as np\n",
    "import xgboost as xgb\n",
    "from sklearn.model_selection import train_test_split\n",
    "from sklearn.metrics import precision_score, recall_score, confusion_matrix, ConfusionMatrixDisplay, accuracy_score\n",
    "import matplotlib.pyplot as plt\n",
    "def get_binance_ohlc(symbol, interval, limit=1000):\n",
    "    url = f'https://api.binance.com/api/v1/klines'\n",
    "    params = {\n",
    "        'symbol': symbol,\n",
    "        'interval': interval,\n",
    "        'limit': limit\n",
    "    }\n",
    "    response = requests.get(url, params=params)\n",
    "    data = response.json()\n",
    "    \n",
    "    ohlc = []\n",
    "    for item in data:\n",
    "        ohlc.append({\n",
    "            'timestamp': datetime.fromtimestamp(item[0] / 1000),\n",
    "            'open': float(item[1]),\n",
    "            'high': float(item[2]),\n",
    "            'low': float(item[3]),\n",
    "            'close': float(item[4]),\n",
    "            'volumn': float(item[5])\n",
    "\n",
    "        })\n",
    "    df = pd.DataFrame(ohlc)\n",
    "    # df.set_index('timestamp', inplace=True)\n",
    "    return df\n",
    "\n"
   ]
  },
  {
   "cell_type": "code",
   "execution_count": 2,
   "metadata": {},
   "outputs": [],
   "source": [
    "from datetime import datetime, timedelta\n",
    "\n",
    "def generate_date_list(start_date_str, end_date_str, interval_days=4):\n",
    "    # Convert string inputs to datetime objects\n",
    "    start_date = datetime.strptime(start_date_str, '%Y-%m-%d')\n",
    "    end_date = datetime.strptime(end_date_str, '%Y-%m-%d')\n",
    "    \n",
    "    # Generate list of dates\n",
    "    date_list = []\n",
    "    current_date = start_date\n",
    "    while current_date <= end_date:\n",
    "        date_list.append(current_date.strftime('%Y-%m-%d'))\n",
    "        current_date += timedelta(days=interval_days)\n",
    "    \n",
    "    return date_list"
   ]
  },
  {
   "cell_type": "code",
   "execution_count": 3,
   "metadata": {},
   "outputs": [],
   "source": [
    "def get_binance_ohlc_time(symbol, interval, start_str, end_str):\n",
    "    print(start_str,\"->\",end_str)\n",
    "    url = f'https://api.binance.com/api/v3/klines'\n",
    "    \n",
    "    # Convert start and end times to milliseconds since epoch\n",
    "    start_ts = int(datetime.strptime(start_str, '%Y-%m-%d %H:%M:%S').timestamp() * 1000)\n",
    "    end_ts = int(datetime.strptime(end_str, '%Y-%m-%d %H:%M:%S').timestamp() * 1000)\n",
    "    \n",
    "    params = {\n",
    "        'symbol': symbol,\n",
    "        'interval': interval,\n",
    "        'startTime': start_ts,\n",
    "        'endTime': end_ts\n",
    "    }\n",
    "    response = requests.get(url, params=params)\n",
    "    data = response.json()\n",
    "    ohlc = []\n",
    "    for item in data:\n",
    "        ohlc.append({\n",
    "            'timestamp': datetime.fromtimestamp(item[0] / 1000),\n",
    "            'open': float(item[1]),\n",
    "            'high': float(item[2]),\n",
    "            'low': float(item[3]),\n",
    "            'close': float(item[4]),\n",
    "            'volumn': float(item[5])\n",
    "        })\n",
    "    \n",
    "    df = pd.DataFrame(ohlc)\n",
    "    df.reset_index(drop=True, inplace=True)\n",
    "\n",
    "    # df.set_index('timestamp', inplace=True)\n",
    "    return df"
   ]
  },
  {
   "cell_type": "code",
   "execution_count": 24,
   "metadata": {},
   "outputs": [],
   "source": [
    "def rule(df_btc, df, tp=1, sl=5, money=1000, model = None, num_random=10000, window_test=10, seq=30):\n",
    "    number_high = 0\n",
    "    number_low = 0\n",
    "    cannot_break = 0\n",
    "    results = []\n",
    "    list_reward = []\n",
    "    balance = 0\n",
    "    price_line = []\n",
    "    # df['fluct'] = (df['close'] - df['open']) / df['open'] * 100\n",
    "    # df['amp'] = (df['high'] - df['low']) / df['low'] * 100\n",
    "\n",
    "    # df_btc['fluct'] = (df_btc['close'] - df_btc['open']) / df_btc['open'] * 100\n",
    "    # df_btc['amp'] = (df_btc['high'] - df_btc['low']) / df_btc['low'] * 100\n",
    "\n",
    "    index_condition = []\n",
    "    if model is None:\n",
    "        index_condition = np.random.randint(100, len(df), num_random)\n",
    "    else:\n",
    "        for i in range(seq+1, len(df)-1, window_test):\n",
    "            x_array = df.iloc[i-seq:i].values[:,1:].astype(np.float32)\n",
    "\n",
    "            min_vol = np.min(x_array[:,-1])\n",
    "            x_array[:,-1] = x_array[:,-1]/min_vol\n",
    "            min_price = np.min(x_array[:,:4])\n",
    "            max_price = np.max(x_array[:,:4])\n",
    "            x_array[:,:4] = (x_array[:,:4] - min_price) / (max_price - min_price)\n",
    "\n",
    "\n",
    "            x_array = np.array([x_array]).reshape(1, -1)\n",
    "            # print(x_array.shape)\n",
    "            dtest = xgb.DMatrix(x_array)\n",
    "            y_pred_prob = model.predict(dtest)\n",
    "            if y_pred_prob == 1:\n",
    "                index_condition.append(i)\n",
    "\n",
    "    index_condition = sorted(index_condition)\n",
    "    for i in index_condition:\n",
    "        a = df['open'].iloc[i]\n",
    "        high_check = False\n",
    "        low_check = False\n",
    "        for j in range(i, i+10):\n",
    "            if j >= len(df):\n",
    "                break\n",
    "            high_check = df['high'].iloc[j] >= (1+sl*0.01) * a\n",
    "            low_check = df['low'].iloc[j] <= (1-tp*0.01) * a\n",
    "            if high_check and low_check:\n",
    "                print(\"check lai\")\n",
    "            if high_check:\n",
    "                balance += -money*sl/100\n",
    "                list_reward.append(balance)\n",
    "                price_line.append(j)\n",
    "                number_high+=1\n",
    "                results.append((i, df.iloc[i]['timestamp'], df.iloc[j]['timestamp'], \"high\"))\n",
    "                break\n",
    "            if low_check:\n",
    "                price_line.append(j)\n",
    "                balance += money*tp/100\n",
    "                list_reward.append(balance)\n",
    "                number_low+=1\n",
    "                # print(df.iloc[i])\n",
    "                # print(\"low\", j-i)\n",
    "                results.append((i, df.iloc[i]['timestamp'], df.iloc[j]['timestamp'], \"low\"))\n",
    "                break\n",
    "        if not high_check and not low_check and j<len(df):\n",
    "            if df.iloc[j]['close'] < a:\n",
    "                # print(\"win: \", df.iloc[j]['close'], df.iloc[i]['open'], money * (1 - df.iloc[j]['close'] / df.iloc[i]['open']))\n",
    "                balance += money * (1 - df.iloc[j]['close'] / df.iloc[i]['open'])\n",
    "            else:\n",
    "                # print(\"lose: \", df.iloc[j]['close'], df.iloc[i]['open'], -money * (df.iloc[j]['close'] / df.iloc[i]['open']-1))\n",
    "\n",
    "                balance += -money * (df.iloc[j]['close'] / df.iloc[i]['open']-1)\n",
    "            list_reward.append(balance)\n",
    "            price_line.append(j)\n",
    "            results.append((i, df.iloc[i]['timestamp'], df.iloc[j]['timestamp'], \"not\"))\n",
    "            cannot_break += 1\n",
    "    prices_list = df.loc[price_line, 'open'].tolist()\n",
    "\n",
    "    print(\"num points: \", len(index_condition), \"number_low/all_point\", round(number_low/(number_low+number_high+0.01), 3), \"cannot_break\", cannot_break)\n",
    "\n",
    "    return results, index_condition, number_high, number_low, list_reward, prices_list\n"
   ]
  },
  {
   "cell_type": "code",
   "execution_count": 5,
   "metadata": {},
   "outputs": [],
   "source": [
    "# start = \"2023-06-12\"\n",
    "# end = \"2024-08-12\"\n",
    "# list_day = generate_date_list(start, end, 5)\n",
    "# df_all = []\n",
    "# symb = \"BTCUSDT\"\n",
    "# interval = \"1d\"\n",
    "# for i in range(len(list_day)-1):\n",
    "#     df = get_binance_ohlc_time(symb, interval, list_day[i]+\" 00:15:00\", list_day[i+1]+\" 00:00:00\")\n",
    "#     df_all.append(df)\n",
    "# df_all = pd.concat(df_all,ignore_index=True, axis=0)\n",
    "# df_all.to_csv(f\"{symb}_{start}_{end}_{interval}.csv\", index=False)\n",
    "# df_all = pd.read_csv(f\"{symb}_{start}_{end}_{interval}.csv\")\n",
    "df_all = pd.read_csv(f\"ORDIUSDT_2023-06-12_2024-08-11_15m.csv\")"
   ]
  },
  {
   "cell_type": "code",
   "execution_count": 20,
   "metadata": {},
   "outputs": [
    {
     "data": {
      "text/html": [
       "<div>\n",
       "<style scoped>\n",
       "    .dataframe tbody tr th:only-of-type {\n",
       "        vertical-align: middle;\n",
       "    }\n",
       "\n",
       "    .dataframe tbody tr th {\n",
       "        vertical-align: top;\n",
       "    }\n",
       "\n",
       "    .dataframe thead th {\n",
       "        text-align: right;\n",
       "    }\n",
       "</style>\n",
       "<table border=\"1\" class=\"dataframe\">\n",
       "  <thead>\n",
       "    <tr style=\"text-align: right;\">\n",
       "      <th></th>\n",
       "      <th>timestamp</th>\n",
       "      <th>open</th>\n",
       "      <th>high</th>\n",
       "      <th>low</th>\n",
       "      <th>close</th>\n",
       "      <th>volumn</th>\n",
       "    </tr>\n",
       "  </thead>\n",
       "  <tbody>\n",
       "    <tr>\n",
       "      <th>0</th>\n",
       "      <td>2023-11-07 19:00:00</td>\n",
       "      <td>5.905</td>\n",
       "      <td>11.8</td>\n",
       "      <td>5.905</td>\n",
       "      <td>10.0</td>\n",
       "      <td>1840312.07</td>\n",
       "    </tr>\n",
       "  </tbody>\n",
       "</table>\n",
       "</div>"
      ],
      "text/plain": [
       "             timestamp   open  high    low  close      volumn\n",
       "0  2023-11-07 19:00:00  5.905  11.8  5.905   10.0  1840312.07"
      ]
     },
     "metadata": {},
     "output_type": "display_data"
    },
    {
     "data": {
      "text/html": [
       "<div>\n",
       "<style scoped>\n",
       "    .dataframe tbody tr th:only-of-type {\n",
       "        vertical-align: middle;\n",
       "    }\n",
       "\n",
       "    .dataframe tbody tr th {\n",
       "        vertical-align: top;\n",
       "    }\n",
       "\n",
       "    .dataframe thead th {\n",
       "        text-align: right;\n",
       "    }\n",
       "</style>\n",
       "<table border=\"1\" class=\"dataframe\">\n",
       "  <thead>\n",
       "    <tr style=\"text-align: right;\">\n",
       "      <th></th>\n",
       "      <th>timestamp</th>\n",
       "      <th>open</th>\n",
       "      <th>high</th>\n",
       "      <th>low</th>\n",
       "      <th>close</th>\n",
       "      <th>volumn</th>\n",
       "    </tr>\n",
       "  </thead>\n",
       "  <tbody>\n",
       "    <tr>\n",
       "      <th>14998</th>\n",
       "      <td>2024-04-12 00:30:00</td>\n",
       "      <td>71.639</td>\n",
       "      <td>71.672</td>\n",
       "      <td>71.264</td>\n",
       "      <td>71.394</td>\n",
       "      <td>10341.35</td>\n",
       "    </tr>\n",
       "    <tr>\n",
       "      <th>14999</th>\n",
       "      <td>2024-04-12 00:45:00</td>\n",
       "      <td>71.395</td>\n",
       "      <td>71.461</td>\n",
       "      <td>71.000</td>\n",
       "      <td>71.030</td>\n",
       "      <td>15166.52</td>\n",
       "    </tr>\n",
       "  </tbody>\n",
       "</table>\n",
       "</div>"
      ],
      "text/plain": [
       "                 timestamp    open    high     low   close    volumn\n",
       "14998  2024-04-12 00:30:00  71.639  71.672  71.264  71.394  10341.35\n",
       "14999  2024-04-12 00:45:00  71.395  71.461  71.000  71.030  15166.52"
      ]
     },
     "metadata": {},
     "output_type": "display_data"
    },
    {
     "name": "stdout",
     "output_type": "stream",
     "text": [
      "check lai\n",
      "check lai\n",
      "check lai\n",
      "check lai\n",
      "check lai\n",
      "check lai\n",
      "check lai\n",
      "check lai\n",
      "check lai\n",
      "check lai\n",
      "check lai\n",
      "check lai\n",
      "check lai\n",
      "num points:  10000 number_low/all_point 0.482 cannot_break 5949\n"
     ]
    }
   ],
   "source": [
    "df = df_all.iloc[:15000].reset_index(drop=True)#.drop(columns=['fluct', 'amp'])\n",
    "display(df.head(1))\n",
    "display(df.tail(2))\n",
    "rs, idcond, high_check, low_check, list_reward, prices_list = rule(df, df, tp=3, sl=3)\n"
   ]
  },
  {
   "cell_type": "code",
   "execution_count": 35,
   "metadata": {},
   "outputs": [
    {
     "name": "stdout",
     "output_type": "stream",
     "text": [
      "Accuracy: 76.24%\n"
     ]
    },
    {
     "data": {
      "image/png": "[encoded data removed]",
      "text/plain": [
       "<Figure size 640x480 with 2 Axes>"
      ]
     },
     "metadata": {},
     "output_type": "display_data"
    }
   ],
   "source": [
    "def create_dataset(df, rs, sequence_length):\n",
    "    x = []\n",
    "    y = []\n",
    "    for point in rs:\n",
    "        index = point[0]\n",
    "        if point[-1] == \"low\":\n",
    "            y.append(1)\n",
    "        elif point[-1] == \"high\":\n",
    "            y.append(2)\n",
    "        else:\n",
    "            y.append(0)\n",
    "        x_array = df_all.iloc[index-sequence_length:index].values[:,1:].astype(np.float32)\n",
    "        min_vol = np.min(x_array[:,-1])\n",
    "        x_array[:,-1] = x_array[:,-1]/min_vol\n",
    "        min_price = np.min(x_array[:,:4])\n",
    "        max_price = np.max(x_array[:,:4])\n",
    "        x_array[:,:4] = (x_array[:,:4] - min_price) / (max_price - min_price)\n",
    "        x.append(x_array)\n",
    "    return x, y\n",
    "\n",
    "x, y = create_dataset(df_all, rs, 30)\n",
    "x = np.array(x)\n",
    "y = np.array(y)\n",
    "x = x.reshape(x.shape[0], -1)\n",
    "x_train, x_test, y_train, y_test = train_test_split(x, y, test_size=0.2, random_state=42)\n",
    "\n",
    "dtrain = xgb.DMatrix(x_train, label=y_train)\n",
    "dtest = xgb.DMatrix(x_test, label=y_test)\n",
    "\n",
    "\n",
    "param = {\n",
    "    'max_depth': 25,\n",
    "    'eta': 0.1,\n",
    "    'objective': 'multi:softmax',  # Multiclass classification\n",
    "    'num_class': 3,                # Number of classes\n",
    "    'eval_metric': 'merror'       # Multiclass classification error rate\n",
    "}\n",
    "\n",
    "# Train the model\n",
    "num_round = 100\n",
    "bst = xgb.train(param, dtrain, num_round)\n",
    "\n",
    "# Make predictions\n",
    "y_pred_prob = bst.predict(dtest)\n",
    "y_pred = y_pred_prob.astype(int) # Convert predicted probabilities to class labels\n",
    "\n",
    "# Calculate accuracy\n",
    "accuracy = accuracy_score(y_test, y_pred)\n",
    "print(f'Accuracy: {accuracy * 100:.2f}%')\n",
    "\n",
    "# Confusion matrix\n",
    "cm = confusion_matrix(y_test, y_pred)\n",
    "cmd = ConfusionMatrixDisplay(cm, display_labels=['Not', 'Down', \"Up\"])\n",
    "cmd.plot(cmap=plt.cm.Blues)\n",
    "plt.title(\"Confusion Matrix\")\n",
    "plt.show()"
   ]
  },
  {
   "cell_type": "code",
   "execution_count": 6,
   "metadata": {},
   "outputs": [],
   "source": [
    "bst = xgb.Booster()\n"
   ]
  },
  {
   "cell_type": "code",
   "execution_count": 34,
   "metadata": {},
   "outputs": [],
   "source": [
    "bst.save_model('xgboost_model_ORDI_15m_15k_first_maxdepth20_3class.json')"
   ]
  },
  {
   "cell_type": "code",
   "execution_count": 37,
   "metadata": {},
   "outputs": [
    {
     "data": {
      "text/html": [
       "<div>\n",
       "<style scoped>\n",
       "    .dataframe tbody tr th:only-of-type {\n",
       "        vertical-align: middle;\n",
       "    }\n",
       "\n",
       "    .dataframe tbody tr th {\n",
       "        vertical-align: top;\n",
       "    }\n",
       "\n",
       "    .dataframe thead th {\n",
       "        text-align: right;\n",
       "    }\n",
       "</style>\n",
       "<table border=\"1\" class=\"dataframe\">\n",
       "  <thead>\n",
       "    <tr style=\"text-align: right;\">\n",
       "      <th></th>\n",
       "      <th>timestamp</th>\n",
       "      <th>open</th>\n",
       "      <th>high</th>\n",
       "      <th>low</th>\n",
       "      <th>close</th>\n",
       "      <th>volumn</th>\n",
       "    </tr>\n",
       "  </thead>\n",
       "  <tbody>\n",
       "    <tr>\n",
       "      <th>0</th>\n",
       "      <td>2024-05-13 07:00:00</td>\n",
       "      <td>36.31</td>\n",
       "      <td>36.5</td>\n",
       "      <td>36.3</td>\n",
       "      <td>36.46</td>\n",
       "      <td>2092.03</td>\n",
       "    </tr>\n",
       "  </tbody>\n",
       "</table>\n",
       "</div>"
      ],
      "text/plain": [
       "             timestamp   open  high   low  close   volumn\n",
       "0  2024-05-13 07:00:00  36.31  36.5  36.3  36.46  2092.03"
      ]
     },
     "metadata": {},
     "output_type": "display_data"
    },
    {
     "data": {
      "text/html": [
       "<div>\n",
       "<style scoped>\n",
       "    .dataframe tbody tr th:only-of-type {\n",
       "        vertical-align: middle;\n",
       "    }\n",
       "\n",
       "    .dataframe tbody tr th {\n",
       "        vertical-align: top;\n",
       "    }\n",
       "\n",
       "    .dataframe thead th {\n",
       "        text-align: right;\n",
       "    }\n",
       "</style>\n",
       "<table border=\"1\" class=\"dataframe\">\n",
       "  <thead>\n",
       "    <tr style=\"text-align: right;\">\n",
       "      <th></th>\n",
       "      <th>timestamp</th>\n",
       "      <th>open</th>\n",
       "      <th>high</th>\n",
       "      <th>low</th>\n",
       "      <th>close</th>\n",
       "      <th>volumn</th>\n",
       "    </tr>\n",
       "  </thead>\n",
       "  <tbody>\n",
       "    <tr>\n",
       "      <th>8515</th>\n",
       "      <td>2024-08-09 23:45:00</td>\n",
       "      <td>27.61</td>\n",
       "      <td>27.67</td>\n",
       "      <td>27.48</td>\n",
       "      <td>27.67</td>\n",
       "      <td>6915.32</td>\n",
       "    </tr>\n",
       "    <tr>\n",
       "      <th>8516</th>\n",
       "      <td>2024-08-10 00:00:00</td>\n",
       "      <td>27.67</td>\n",
       "      <td>27.81</td>\n",
       "      <td>27.60</td>\n",
       "      <td>27.80</td>\n",
       "      <td>2958.34</td>\n",
       "    </tr>\n",
       "  </tbody>\n",
       "</table>\n",
       "</div>"
      ],
      "text/plain": [
       "                timestamp   open   high    low  close   volumn\n",
       "8515  2024-08-09 23:45:00  27.61  27.67  27.48  27.67  6915.32\n",
       "8516  2024-08-10 00:00:00  27.67  27.81  27.60  27.80  2958.34"
      ]
     },
     "metadata": {},
     "output_type": "display_data"
    },
    {
     "name": "stdout",
     "output_type": "stream",
     "text": [
      "num points:  136 number_low/all_point 0.58 cannot_break 86\n"
     ]
    },
    {
     "data": {
      "text/plain": [
       "566.249859443051"
      ]
     },
     "execution_count": 37,
     "metadata": {},
     "output_type": "execute_result"
    }
   ],
   "source": [
    "df = df_all.iloc[18000:].reset_index(drop=True)#.drop(columns=['fluct', 'amp'])\n",
    "display(df.head(1))\n",
    "display(df.tail(2))\n",
    "rs2, idcond, high_check, low_check, list_reward, prices_list = rule(df, df, tp=3, sl=3, model=bst, num_random=1000, window_test=1, seq=30)\n",
    "list_reward[-1]"
   ]
  },
  {
   "cell_type": "code",
   "execution_count": 33,
   "metadata": {},
   "outputs": [
    {
     "data": {
      "image/png": "[encoded data removed]",
      "text/plain": [
       "<Figure size 640x480 with 2 Axes>"
      ]
     },
     "metadata": {},
     "output_type": "display_data"
    }
   ],
   "source": [
    "import matplotlib.pyplot as plt\n",
    "\n",
    "\n",
    "fig, ax1 = plt.subplots()\n",
    "\n",
    "ax1.plot(list_reward, 'b-', label='list_reward')\n",
    "ax1.set_xlabel('time')\n",
    "ax1.set_ylabel('list_reward', color='b')\n",
    "ax1.tick_params(axis='y', labelcolor='b')\n",
    "\n",
    "ax2 = ax1.twinx()\n",
    "ax2.plot(prices_list, 'r-', label='prices_list')\n",
    "ax2.set_ylabel('prices_list', color='r')\n",
    "ax2.tick_params(axis='y', labelcolor='r')\n",
    "\n",
    "fig.legend(loc='upper left', bbox_to_anchor=(0.1, 0.9))\n",
    "\n",
    "# plt.title('Two Lists with Different Scales')\n",
    "plt.show()\n"
   ]
  },
  {
   "cell_type": "code",
   "execution_count": 8,
   "metadata": {},
   "outputs": [],
   "source": [
    "def create_dataset(df, rs, sequence_length):\n",
    "    x = []\n",
    "    y = []\n",
    "    for point in rs:\n",
    "        index = point[0]\n",
    "        y.append(point[-1] == \"low\")\n",
    "        x_array = df_all.iloc[index-sequence_length:index].values[:,1:].astype(np.float32)\n",
    "        x_array[:,-1] = x_array[:,-1]/20000\n",
    "        x.append(x_array)\n",
    "    return x, y\n",
    "\n",
    "        \n",
    "    "
   ]
  },
  {
   "cell_type": "code",
   "execution_count": 9,
   "metadata": {},
   "outputs": [
    {
     "name": "stderr",
     "output_type": "stream",
     "text": [
      "/var/folders/1y/2nvkbs5d7_7cgdwwkbwy72tm0000gn/T/ipykernel_49613/2252756341.py:24: UserWarning: Creating a tensor from a list of numpy.ndarrays is extremely slow. Please consider converting the list to a single numpy.ndarray with numpy.array() before converting to a tensor. (Triggered internally at /Users/runner/work/pytorch/pytorch/pytorch/torch/csrc/utils/tensor_new.cpp:248.)\n",
      "  x = torch.tensor(x, dtype=torch.float32)\n",
      "/Users/qcuong/Library/Python/3.9/lib/python/site-packages/torch/nn/modules/loss.py:536: UserWarning: Using a target size (torch.Size([32])) that is different to the input size (torch.Size([32, 1])). This will likely lead to incorrect results due to broadcasting. Please ensure they have the same size.\n",
      "  return F.mse_loss(input, target, reduction=self.reduction)\n"
     ]
    },
    {
     "name": "stdout",
     "output_type": "stream",
     "text": [
      "torch.Size([4979, 60, 5])\n"
     ]
    },
    {
     "name": "stderr",
     "output_type": "stream",
     "text": [
      "/Users/qcuong/Library/Python/3.9/lib/python/site-packages/torch/nn/modules/loss.py:536: UserWarning: Using a target size (torch.Size([1])) that is different to the input size (torch.Size([1, 1])). This will likely lead to incorrect results due to broadcasting. Please ensure they have the same size.\n",
      "  return F.mse_loss(input, target, reduction=self.reduction)\n"
     ]
    },
    {
     "ename": "KeyboardInterrupt",
     "evalue": "",
     "output_type": "error",
     "traceback": [
      "\u001b[0;31m---------------------------------------------------------------------------\u001b[0m",
      "\u001b[0;31mKeyboardInterrupt\u001b[0m                         Traceback (most recent call last)",
      "Cell \u001b[0;32mIn[9], line 108\u001b[0m\n\u001b[1;32m    105\u001b[0m     loss \u001b[38;5;241m=\u001b[39m criterion(outputs, labels)\n\u001b[1;32m    107\u001b[0m     optimizer\u001b[38;5;241m.\u001b[39mzero_grad()\n\u001b[0;32m--> 108\u001b[0m     \u001b[43mloss\u001b[49m\u001b[38;5;241;43m.\u001b[39;49m\u001b[43mbackward\u001b[49m\u001b[43m(\u001b[49m\u001b[43m)\u001b[49m\n\u001b[1;32m    109\u001b[0m     optimizer\u001b[38;5;241m.\u001b[39mstep()\n\u001b[1;32m    111\u001b[0m \u001b[38;5;28;01mif\u001b[39;00m (epoch \u001b[38;5;241m+\u001b[39m \u001b[38;5;241m1\u001b[39m) \u001b[38;5;241m%\u001b[39m \u001b[38;5;241m10\u001b[39m \u001b[38;5;241m==\u001b[39m \u001b[38;5;241m0\u001b[39m:\n",
      "File \u001b[0;32m~/Library/Python/3.9/lib/python/site-packages/torch/_tensor.py:487\u001b[0m, in \u001b[0;36mTensor.backward\u001b[0;34m(self, gradient, retain_graph, create_graph, inputs)\u001b[0m\n\u001b[1;32m    477\u001b[0m \u001b[38;5;28;01mif\u001b[39;00m has_torch_function_unary(\u001b[38;5;28mself\u001b[39m):\n\u001b[1;32m    478\u001b[0m     \u001b[38;5;28;01mreturn\u001b[39;00m handle_torch_function(\n\u001b[1;32m    479\u001b[0m         Tensor\u001b[38;5;241m.\u001b[39mbackward,\n\u001b[1;32m    480\u001b[0m         (\u001b[38;5;28mself\u001b[39m,),\n\u001b[0;32m   (...)\u001b[0m\n\u001b[1;32m    485\u001b[0m         inputs\u001b[38;5;241m=\u001b[39minputs,\n\u001b[1;32m    486\u001b[0m     )\n\u001b[0;32m--> 487\u001b[0m \u001b[43mtorch\u001b[49m\u001b[38;5;241;43m.\u001b[39;49m\u001b[43mautograd\u001b[49m\u001b[38;5;241;43m.\u001b[39;49m\u001b[43mbackward\u001b[49m\u001b[43m(\u001b[49m\n\u001b[1;32m    488\u001b[0m \u001b[43m    \u001b[49m\u001b[38;5;28;43mself\u001b[39;49m\u001b[43m,\u001b[49m\u001b[43m \u001b[49m\u001b[43mgradient\u001b[49m\u001b[43m,\u001b[49m\u001b[43m \u001b[49m\u001b[43mretain_graph\u001b[49m\u001b[43m,\u001b[49m\u001b[43m \u001b[49m\u001b[43mcreate_graph\u001b[49m\u001b[43m,\u001b[49m\u001b[43m \u001b[49m\u001b[43minputs\u001b[49m\u001b[38;5;241;43m=\u001b[39;49m\u001b[43minputs\u001b[49m\n\u001b[1;32m    489\u001b[0m \u001b[43m\u001b[49m\u001b[43m)\u001b[49m\n",
      "File \u001b[0;32m~/Library/Python/3.9/lib/python/site-packages/torch/autograd/__init__.py:200\u001b[0m, in \u001b[0;36mbackward\u001b[0;34m(tensors, grad_tensors, retain_graph, create_graph, grad_variables, inputs)\u001b[0m\n\u001b[1;32m    195\u001b[0m     retain_graph \u001b[38;5;241m=\u001b[39m create_graph\n\u001b[1;32m    197\u001b[0m \u001b[38;5;66;03m# The reason we repeat same the comment below is that\u001b[39;00m\n\u001b[1;32m    198\u001b[0m \u001b[38;5;66;03m# some Python versions print out the first line of a multi-line function\u001b[39;00m\n\u001b[1;32m    199\u001b[0m \u001b[38;5;66;03m# calls in the traceback and some print out the last line\u001b[39;00m\n\u001b[0;32m--> 200\u001b[0m \u001b[43mVariable\u001b[49m\u001b[38;5;241;43m.\u001b[39;49m\u001b[43m_execution_engine\u001b[49m\u001b[38;5;241;43m.\u001b[39;49m\u001b[43mrun_backward\u001b[49m\u001b[43m(\u001b[49m\u001b[43m  \u001b[49m\u001b[38;5;66;43;03m# Calls into the C++ engine to run the backward pass\u001b[39;49;00m\n\u001b[1;32m    201\u001b[0m \u001b[43m    \u001b[49m\u001b[43mtensors\u001b[49m\u001b[43m,\u001b[49m\u001b[43m \u001b[49m\u001b[43mgrad_tensors_\u001b[49m\u001b[43m,\u001b[49m\u001b[43m \u001b[49m\u001b[43mretain_graph\u001b[49m\u001b[43m,\u001b[49m\u001b[43m \u001b[49m\u001b[43mcreate_graph\u001b[49m\u001b[43m,\u001b[49m\u001b[43m \u001b[49m\u001b[43minputs\u001b[49m\u001b[43m,\u001b[49m\n\u001b[1;32m    202\u001b[0m \u001b[43m    \u001b[49m\u001b[43mallow_unreachable\u001b[49m\u001b[38;5;241;43m=\u001b[39;49m\u001b[38;5;28;43;01mTrue\u001b[39;49;00m\u001b[43m,\u001b[49m\u001b[43m \u001b[49m\u001b[43maccumulate_grad\u001b[49m\u001b[38;5;241;43m=\u001b[39;49m\u001b[38;5;28;43;01mTrue\u001b[39;49;00m\u001b[43m)\u001b[49m\n",
      "\u001b[0;31mKeyboardInterrupt\u001b[0m: "
     ]
    }
   ],
   "source": [
    "import torch\n",
    "import torch.nn as nn\n",
    "import numpy as np\n",
    "from sklearn.preprocessing import MinMaxScaler\n",
    "from torch.utils.data import DataLoader, TensorDataset, random_split\n",
    "\n",
    "# Hyperparameters\n",
    "input_size = 5  # Single feature (price)\n",
    "hidden_size = 50  # Number of features in hidden state\n",
    "num_layers = 2  # Number of stacked LSTM layers\n",
    "output_size = 1  # Predict the next price\n",
    "num_epochs = 100\n",
    "learning_rate = 0.001\n",
    "sequence_length = 60  # Number of past prices to use for prediction\n",
    "train_ratio = 0.9\n",
    "d_model = 64  # Embedding dimension\n",
    "nhead = 4  # Number of attention heads\n",
    "num_encoder_layers = 2  # Number of transformer encoder layers\n",
    "fc1_size = 32  # Number of neurons in the first fully connected layer\n",
    "fc2_size = 16\n",
    "x, y = create_dataset(df_all, rs, sequence_length)\n",
    "\n",
    "# Convert to PyTorch tensors\n",
    "x = torch.tensor(x, dtype=torch.float32)\n",
    "y = torch.tensor(y, dtype=torch.float32)\n",
    "\n",
    "print(x.shape)\n",
    "# Split data into training and validation sets\n",
    "dataset = TensorDataset(x, y)\n",
    "train_size = int(train_ratio * len(dataset))\n",
    "val_size = len(dataset) - train_size\n",
    "train_dataset, val_dataset = random_split(dataset, [train_size, val_size])\n",
    "\n",
    "# Create DataLoaders for batch processing\n",
    "train_loader = DataLoader(train_dataset, batch_size=32, shuffle=True)\n",
    "val_loader = DataLoader(val_dataset, batch_size=32, shuffle=False)\n",
    "\n",
    "# Define the Transformer model\n",
    "class TransformerModel(nn.Module):\n",
    "    def __init__(self, input_size, d_model, nhead, num_encoder_layers, output_size, sequence_length):\n",
    "        super(TransformerModel, self).__init__()\n",
    "        self.d_model = d_model\n",
    "        self.embedding = nn.Linear(input_size, d_model)\n",
    "        self.pos_encoder = nn.Parameter(torch.zeros(1, sequence_length, d_model))  # Positional encoding\n",
    "        self.transformer_encoder = nn.TransformerEncoder(\n",
    "            nn.TransformerEncoderLayer(d_model, nhead), num_encoder_layers)\n",
    "        self.fc = nn.Linear(d_model, output_size)\n",
    "        self.sigmoid = nn.Sigmoid()\n",
    "\n",
    "    def forward(self, x):\n",
    "        # Add positional encoding\n",
    "        x = self.embedding(x) + self.pos_encoder\n",
    "        x = self.transformer_encoder(x)\n",
    "        x = self.fc(x[:, -1, :])  # Only use the last time step's output\n",
    "        x = self.sigmoid(x)\n",
    "        return x\n",
    "    \n",
    "# Define the LSTM model\n",
    "class LSTMModel(nn.Module):\n",
    "    def __init__(self, input_size, hidden_size, num_layers, fc1_size, fc2_size, output_size):\n",
    "        super(LSTMModel, self).__init__()\n",
    "        self.num_layers = num_layers\n",
    "        self.hidden_size = hidden_size\n",
    "        \n",
    "        # Define the LSTM layers\n",
    "        self.lstm = nn.LSTM(input_size, hidden_size, num_layers, batch_first=True)\n",
    "        \n",
    "        # Define the fully connected layers\n",
    "        self.fc1 = nn.Linear(hidden_size, fc1_size)\n",
    "        self.fc2 = nn.Linear(fc1_size, fc2_size)\n",
    "        self.fc3 = nn.Linear(fc2_size, output_size)\n",
    "        \n",
    "        # Activation functions\n",
    "        self.relu = nn.ReLU()\n",
    "        self.sigmoid = nn.Sigmoid()  # For binary classification\n",
    "\n",
    "    def forward(self, x):\n",
    "        # Initialize hidden state with zeros\n",
    "        h0 = torch.zeros(self.num_layers, x.size(0), self.hidden_size).to(x.device)\n",
    "        c0 = torch.zeros(self.num_layers, x.size(0), self.hidden_size).to(x.device)\n",
    "        \n",
    "        # Forward propagate LSTM\n",
    "        out, _ = self.lstm(x, (h0, c0))  # out: tensor of shape (batch_size, seq_length, hidden_size)\n",
    "        \n",
    "        # Decode the hidden state of the last time step\n",
    "        out = self.fc1(out[:, -1, :])\n",
    "        out = self.relu(out)\n",
    "        out = self.fc2(out)\n",
    "        out = self.relu(out)\n",
    "        out = self.fc3(out)\n",
    "        out = self.sigmoid(out)  # Use sigmoid for binary classification\n",
    "        return out\n",
    "\n",
    "model = LSTMModel(input_size, hidden_size, num_layers, fc1_size, fc2_size, output_size)\n",
    "# model = TransformerModel(input_size, d_model, nhead, num_encoder_layers, output_size, sequence_length)\n",
    "\n",
    "# Loss and optimizer\n",
    "criterion = nn.MSELoss()\n",
    "optimizer = torch.optim.Adam(model.parameters(), lr=learning_rate)\n",
    "\n",
    "# Training the model\n",
    "for epoch in range(num_epochs):\n",
    "    for i, (prices, labels) in enumerate(train_loader):\n",
    "        outputs = model(prices)\n",
    "        loss = criterion(outputs, labels)\n",
    "        \n",
    "        optimizer.zero_grad()\n",
    "        loss.backward()\n",
    "        optimizer.step()\n",
    "\n",
    "    if (epoch + 1) % 10 == 0:\n",
    "        print(f'Epoch [{epoch+1}/{num_epochs}], Loss: {loss.item():.4f}')\n",
    "\n"
   ]
  },
  {
   "cell_type": "code",
   "execution_count": null,
   "metadata": {},
   "outputs": [
    {
     "name": "stdout",
     "output_type": "stream",
     "text": [
      "Validation Precision: 0.4719\n",
      "Validation Recall: 1.0000\n"
     ]
    },
    {
     "data": {
      "image/png": "[encoded data removed]",
      "text/plain": [
       "<Figure size 640x480 with 2 Axes>"
      ]
     },
     "metadata": {},
     "output_type": "display_data"
    }
   ],
   "source": [
    "from sklearn.metrics import precision_score, recall_score, confusion_matrix, ConfusionMatrixDisplay\n",
    "\n",
    "# Validation\n",
    "model.eval()\n",
    "all_labels = []\n",
    "all_predictions = []\n",
    "with torch.no_grad():\n",
    "    for prices, labels in val_loader:\n",
    "        outputs = model(prices).squeeze()\n",
    "        predicted = (outputs >= 0.5).float()\n",
    "        all_labels.extend(labels.numpy())\n",
    "        all_predictions.extend(predicted.numpy())\n",
    "\n",
    "# Calculate precision and recall\n",
    "precision = precision_score(all_labels, all_predictions)\n",
    "recall = recall_score(all_labels, all_predictions)\n",
    "print(f'Validation Precision: {precision:.4f}')\n",
    "print(f'Validation Recall: {recall:.4f}')\n",
    "\n",
    "# Calculate confusion matrix\n",
    "cm = confusion_matrix(all_labels, all_predictions)\n",
    "cmd = ConfusionMatrixDisplay(cm, display_labels=['Up', 'Down'])\n",
    "cmd.plot(cmap=plt.cm.Blues)\n",
    "plt.title(\"Confusion Matrix\")\n",
    "plt.show()"
   ]
  },
  {
   "cell_type": "code",
   "execution_count": null,
   "metadata": {},
   "outputs": [],
   "source": [
    "torch.save(model, \"LSTM_seq_30.pt\")"
   ]
  },
  {
   "cell_type": "code",
   "execution_count": null,
   "metadata": {},
   "outputs": [
    {
     "name": "stdout",
     "output_type": "stream",
     "text": [
      "time:  2024-07-30 09:45:00\n"
     ]
    },
    {
     "data": {
      "text/plain": [
       "timestamp    2024-07-30 10:00:00\n",
       "open                       37.38\n",
       "high                       37.54\n",
       "low                        37.32\n",
       "close                      37.51\n",
       "volumn                   4735.03\n",
       "Name: 25500, dtype: object"
      ]
     },
     "metadata": {},
     "output_type": "display_data"
    },
    {
     "name": "stdout",
     "output_type": "stream",
     "text": [
      "Predicted next movement: Up\n"
     ]
    }
   ],
   "source": [
    "model.eval()\n",
    "index = 25500\n",
    "with torch.no_grad():\n",
    "    array_seq = df_all.iloc[index-sequence_length:index].values\n",
    "    print(\"time: \", array_seq[-1, 0], )\n",
    "    display(df_all.iloc[index])\n",
    "    tens_seq = torch.tensor(array_seq[:,1:].astype(np.float32), dtype=torch.float32).unsqueeze(0)\n",
    "    next_movement = model(tens_seq)\n",
    "    prediction = \"Down\" if next_movement.item() >= 0.5 else \"Up\"\n",
    "    print(f'Predicted next movement: {prediction}')"
   ]
  },
  {
   "cell_type": "code",
   "execution_count": null,
   "metadata": {},
   "outputs": [
    {
     "data": {
      "text/plain": [
       "array([[   37.16,    37.43,    37.12,    37.37,  6142.39],\n",
       "       [   37.38,    37.5 ,    37.22,    37.5 ,  7726.35],\n",
       "       [   37.51,    37.75,    37.44,    37.73,  7304.18],\n",
       "       [   37.72,    37.8 ,    37.57,    37.64,  6155.4 ],\n",
       "       [   37.65,    37.77,    37.23,    37.3 , 10241.47],\n",
       "       [   37.3 ,    37.31,    37.04,    37.17, 12321.35],\n",
       "       [   37.16,    37.44,    37.13,    37.37,  5225.59],\n",
       "       [   37.39,    37.41,    36.94,    37.01,  9231.01],\n",
       "       [   36.99,    37.17,    36.96,    37.16,  9114.22],\n",
       "       [   37.16,    37.41,    37.15,    37.38,  1893.64]], dtype=float32)"
      ]
     },
     "execution_count": 47,
     "metadata": {},
     "output_type": "execute_result"
    }
   ],
   "source": [
    "array_seq[:,1:]"
   ]
  },
  {
   "cell_type": "code",
   "execution_count": null,
   "metadata": {},
   "outputs": [
    {
     "name": "stdout",
     "output_type": "stream",
     "text": [
      "2024-07-31 23:15:00\n",
      "Sleeping for 431.366068 seconds until the next kline starts...\n"
     ]
    },
    {
     "ename": "KeyboardInterrupt",
     "evalue": "",
     "output_type": "error",
     "traceback": [
      "\u001b[0;31m---------------------------------------------------------------------------\u001b[0m",
      "\u001b[0;31mKeyboardInterrupt\u001b[0m                         Traceback (most recent call last)",
      "Cell \u001b[0;32mIn[2], line 34\u001b[0m\n\u001b[1;32m     32\u001b[0m \u001b[38;5;28;01mif\u001b[39;00m sleep_duration \u001b[38;5;241m>\u001b[39m \u001b[38;5;241m0\u001b[39m:\n\u001b[1;32m     33\u001b[0m     \u001b[38;5;28mprint\u001b[39m(\u001b[38;5;124mf\u001b[39m\u001b[38;5;124m\"\u001b[39m\u001b[38;5;124mSleeping for \u001b[39m\u001b[38;5;132;01m{\u001b[39;00msleep_duration\u001b[38;5;132;01m}\u001b[39;00m\u001b[38;5;124m seconds until the next kline starts...\u001b[39m\u001b[38;5;124m\"\u001b[39m)\n\u001b[0;32m---> 34\u001b[0m     \u001b[43mtime\u001b[49m\u001b[38;5;241;43m.\u001b[39;49m\u001b[43msleep\u001b[49m\u001b[43m(\u001b[49m\u001b[43msleep_duration\u001b[49m\u001b[43m)\u001b[49m\n\u001b[1;32m     35\u001b[0m     current_kline_time, klines \u001b[38;5;241m=\u001b[39m get_latest_kline_start_time(symbol, interval)\n\u001b[1;32m     36\u001b[0m     ohlc \u001b[38;5;241m=\u001b[39m []\n",
      "\u001b[0;31mKeyboardInterrupt\u001b[0m: "
     ]
    }
   ],
   "source": [
    "import time\n",
    "from datetime import datetime\n",
    "from binance.spot import Spot\n",
    "from binance_ft.um_futures import UMFutures\n",
    "from helper import get_commision, get_precision, get_status_pos, key, secret, xlsx_to_nested_dict\n",
    "from datetime import datetime, timedelta\n",
    "\n",
    "# Initialize the Binance client\n",
    "api_key=\"7NvUEUX4tnzOja5KQ99gmUG37DQOV9oelvz1akWAr2Zts9X57djRMwbvfgjQoykp\"\n",
    "api_secret=\"X9CWCXNsdypjEU8Q0AQaoaqPrcnaX4wpDe5KVxsAfThkVJJAvufiGJ3tb95QqnQC\"\n",
    "# client = UMFutures(key=\"c21f1bb909318f36de0f915077deadac8322ad7df00c93606970441674c1b39b\", secret=\"be2d7e74239b2e959b3446b880451cbb4dee2e6be9d391c4c55ae7ca0976f403\", base_url=\"https://testnet.binancefuture.com\")\n",
    "client = UMFutures(key=api_key, secret=api_secret)\n",
    "def get_latest_kline_start_time(symbol, interval):\n",
    "    klines = client.klines(symbol=symbol, interval=interval, limit=3)\n",
    "    kline_start_time = int(klines[-1][0])\n",
    "    return datetime.fromtimestamp(kline_start_time / 1000), klines\n",
    "\n",
    "    \n",
    "\n",
    "# Example usage\n",
    "symbol = 'ORDIUSDT'\n",
    "interval = '15m'\n",
    "usdt = 1000\n",
    "precision_ft = get_precision(symbol, client)\n",
    "while True:\n",
    "    kline_start_time, klines = get_latest_kline_start_time(symbol, interval)\n",
    "    print(kline_start_time)\n",
    "    next_kline_start_time = kline_start_time + timedelta(minutes=15)\n",
    "    \n",
    "    now = datetime.now()\n",
    "    sleep_duration = (next_kline_start_time - now).total_seconds()    \n",
    "    if sleep_duration > 0:\n",
    "        print(f\"Sleeping for {sleep_duration} seconds until the next kline starts...\")\n",
    "        time.sleep(sleep_duration)\n",
    "        current_kline_time, klines = get_latest_kline_start_time(symbol, interval)\n",
    "        ohlc = []\n",
    "        for item in klines:\n",
    "            ohlc.append({\n",
    "                'timestamp': datetime.fromtimestamp(item[0] / 1000),\n",
    "                'open': float(item[1]),\n",
    "                'high': float(item[2]),\n",
    "                'low': float(item[3]),\n",
    "                'close': float(item[4])\n",
    "            })\n",
    "        df = pd.DataFrame(ohlc)\n",
    "        df['fluct'] = (df['close'] - df['open']) / df['open'] * 100\n",
    "        if current_kline_time>kline_start_time:\n",
    "            print(\"A new kline has started!\")\n",
    "        else:\n",
    "            print(\"In current kline\")\n",
    "            if df['fluct'].iloc[-1] < -0.8 and df['fluct'].iloc[-2] >0:\n",
    "                order_price = df.iloc[-1]['close']\n",
    "                high = order_price * 1.05\n",
    "                low = order_price * 0.99\n",
    "                print(current_kline_time, order_price, high, low)\n",
    "                quantity_ft = round((usdt)/order_price, precision_ft)\n",
    "                print(\"open\")\n",
    "                # close_future = client.new_order(symbol=symbol, side=\"SELL\", type=\"MARKET\", quantity=quantity_ft)\n",
    "                while True:\n",
    "                    askPrice = float(client.book_ticker(symbol)['askPrice'])\n",
    "                    print(\"waiting_close...\")\n",
    "                    if askPrice > high or askPrice < low:\n",
    "\n",
    "                        print(time.strftime(\"%Y-%m-%d %H:%M:%S\"),\"close\", askPrice, high, low)\n",
    "                        # close_future = client.new_order(symbol=symbol, side=\"BUY\", type=\"MARKET\", quantity=quantity_ft)\n",
    "                        break\n",
    "                    time.sleep(1)\n",
    "            else:\n",
    "                display(df)\n",
    "    else:\n",
    "        time.sleep(2)\n"
   ]
  }
 ],
 "metadata": {
  "kernelspec": {
   "display_name": "Python 3",
   "language": "python",
   "name": "python3"
  },
  "language_info": {
   "codemirror_mode": {
    "name": "ipython",
    "version": 3
   },
   "file_extension": ".py",
   "mimetype": "text/x-python",
   "name": "python",
   "nbconvert_exporter": "python",
   "pygments_lexer": "ipython3",
   "version": "3.9.6"
  }
 },
 "nbformat": 4,
 "nbformat_minor": 2
}

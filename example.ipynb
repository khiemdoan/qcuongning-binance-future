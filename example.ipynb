{
 "cells": [
  {
   "cell_type": "code",
   "execution_count": null,
   "metadata": {},
   "outputs": [],
   "source": [
    "from binance_ft.um_futures import UMFutures\n",
    "\n",
    "um_futures_client = UMFutures(key=\"c21f1bb909318f36de0f915077deadac8322ad7df00c93606970441674c1b39b\", secret=\"be2d7e74239b2e959b3446b880451cbb4dee2e6be9d391c4c55ae7ca0976f403\", base_url=\"https://testnet.binancefuture.com\")\n"
   ]
  },
  {
   "cell_type": "code",
   "execution_count": null,
   "metadata": {},
   "outputs": [],
   "source": [
    "# cancel open order\n",
    "response = um_futures_client.cancel_open_orders(symbol=\"BTCUSDT\", recvWindow=2000)\n",
    "response"
   ]
  },
  {
   "cell_type": "code",
   "execution_count": null,
   "metadata": {},
   "outputs": [],
   "source": [
    "# cancel order\n",
    "response = um_futures_client.cancel_order(symbol=\"BTCUSDT\", orderId=123456, recvWindow=2000)"
   ]
  },
  {
   "cell_type": "code",
   "execution_count": null,
   "metadata": {},
   "outputs": [],
   "source": [
    "# change leverage\n",
    "\n",
    "response = um_futures_client.change_leverage(symbol=\"BTCUSDT\", leverage=2, recvWindow=6000)\n",
    "response"
   ]
  },
  {
   "cell_type": "code",
   "execution_count": null,
   "metadata": {},
   "outputs": [],
   "source": [
    "# change margin type\n",
    "response = um_futures_client.change_margin_type(symbol=\"BTCUSDT\", marginType=\"ISOLATED\", recvWindow=6000)\n",
    "response"
   ]
  },
  {
   "cell_type": "code",
   "execution_count": null,
   "metadata": {},
   "outputs": [],
   "source": [
    "# get account trades\n",
    "response = um_futures_client.get_account_trades(symbol=\"BTCUSDT\", recvWindow=6000)\n",
    "response"
   ]
  },
  {
   "cell_type": "code",
   "execution_count": null,
   "metadata": {},
   "outputs": [],
   "source": [
    "# get adl quantile\n",
    "response = um_futures_client.adl_quantile(symbol=\"BTCUSDT\", recvWindow=6000)\n",
    "response"
   ]
  },
  {
   "cell_type": "code",
   "execution_count": null,
   "metadata": {},
   "outputs": [],
   "source": [
    "response = um_futures_client.account(recvWindow=6000)\n",
    "response['assets']"
   ]
  },
  {
   "cell_type": "code",
   "execution_count": null,
   "metadata": {},
   "outputs": [],
   "source": [
    "# get all order\n",
    "\n",
    "response = um_futures_client.get_all_orders(symbol=\"BTCUSDT\", recvWindow=2000)\n",
    "response"
   ]
  },
  {
   "cell_type": "code",
   "execution_count": 30,
   "metadata": {},
   "outputs": [
    {
     "data": {
      "text/plain": [
       "{'indicators': {}, 'updateTime': 1715968134699}"
      ]
     },
     "execution_count": 30,
     "metadata": {},
     "output_type": "execute_result"
    }
   ],
   "source": [
    "# get api trading status\n",
    "response = um_futures_client.api_trading_status(recvWindow=6000)\n",
    "response  \n"
   ]
  },
  {
   "cell_type": "code",
   "execution_count": 31,
   "metadata": {},
   "outputs": [
    {
     "data": {
      "text/plain": [
       "[{'accountAlias': 'FzFzmYAuAuXqfW',\n",
       "  'asset': 'FDUSD',\n",
       "  'balance': '0.00000000',\n",
       "  'crossWalletBalance': '0.00000000',\n",
       "  'crossUnPnl': '0.00000000',\n",
       "  'availableBalance': '0.00000000',\n",
       "  'maxWithdrawAmount': '0.00000000',\n",
       "  'marginAvailable': True,\n",
       "  'updateTime': 0},\n",
       " {'accountAlias': 'FzFzmYAuAuXqfW',\n",
       "  'asset': 'BTC',\n",
       "  'balance': '0.00000000',\n",
       "  'crossWalletBalance': '0.00000000',\n",
       "  'crossUnPnl': '0.00000000',\n",
       "  'availableBalance': '0.00000000',\n",
       "  'maxWithdrawAmount': '0.00000000',\n",
       "  'marginAvailable': True,\n",
       "  'updateTime': 0},\n",
       " {'accountAlias': 'FzFzmYAuAuXqfW',\n",
       "  'asset': 'BNB',\n",
       "  'balance': '0.00000000',\n",
       "  'crossWalletBalance': '0.00000000',\n",
       "  'crossUnPnl': '0.00000000',\n",
       "  'availableBalance': '0.00000000',\n",
       "  'maxWithdrawAmount': '0.00000000',\n",
       "  'marginAvailable': True,\n",
       "  'updateTime': 0},\n",
       " {'accountAlias': 'FzFzmYAuAuXqfW',\n",
       "  'asset': 'ETH',\n",
       "  'balance': '0.00000000',\n",
       "  'crossWalletBalance': '0.00000000',\n",
       "  'crossUnPnl': '0.00000000',\n",
       "  'availableBalance': '0.00000000',\n",
       "  'maxWithdrawAmount': '0.00000000',\n",
       "  'marginAvailable': True,\n",
       "  'updateTime': 0},\n",
       " {'accountAlias': 'FzFzmYAuAuXqfW',\n",
       "  'asset': 'USDT',\n",
       "  'balance': '3434.03197029',\n",
       "  'crossWalletBalance': '2919.90308159',\n",
       "  'crossUnPnl': '0.00000000',\n",
       "  'availableBalance': '2919.90308159',\n",
       "  'maxWithdrawAmount': '2919.90308159',\n",
       "  'marginAvailable': True,\n",
       "  'updateTime': 1715967848832},\n",
       " {'accountAlias': 'FzFzmYAuAuXqfW',\n",
       "  'asset': 'USDC',\n",
       "  'balance': '0.00000000',\n",
       "  'crossWalletBalance': '0.00000000',\n",
       "  'crossUnPnl': '0.00000000',\n",
       "  'availableBalance': '0.00000000',\n",
       "  'maxWithdrawAmount': '0.00000000',\n",
       "  'marginAvailable': True,\n",
       "  'updateTime': 0}]"
      ]
     },
     "execution_count": 31,
     "metadata": {},
     "output_type": "execute_result"
    }
   ],
   "source": [
    "# get balance\n",
    "\n",
    "response = um_futures_client.balance(recvWindow=6000)\n",
    "response"
   ]
  },
  {
   "cell_type": "code",
   "execution_count": 32,
   "metadata": {},
   "outputs": [
    {
     "data": {
      "text/plain": [
       "{'dualSidePosition': False}"
      ]
     },
     "execution_count": 32,
     "metadata": {},
     "output_type": "execute_result"
    }
   ],
   "source": [
    "# get_position_mode\n",
    "response = um_futures_client.get_position_mode(recvWindow=2000)\n",
    "response"
   ]
  },
  {
   "cell_type": "code",
   "execution_count": 33,
   "metadata": {},
   "outputs": [
    {
     "data": {
      "text/plain": [
       "[]"
      ]
     },
     "execution_count": 33,
     "metadata": {},
     "output_type": "execute_result"
    }
   ],
   "source": [
    "# get force order\n",
    "\n",
    "response = um_futures_client.force_orders(recvWindow=6000)\n",
    "response"
   ]
  },
  {
   "cell_type": "code",
   "execution_count": 37,
   "metadata": {},
   "outputs": [
    {
     "ename": "ClientError",
     "evalue": "(403, None, '<html>\\r\\n<head><title>403 Forbidden</title></head>\\r\\n<body>\\r\\n<center><h1>403 Forbidden</h1></center>\\r\\n</body>\\r\\n</html>\\r\\n', {'Server': 'awselb/2.0', 'Date': 'Fri, 17 May 2024 18:03:57 GMT', 'Content-Type': 'text/html', 'Content-Length': '118', 'Connection': 'keep-alive'})",
     "output_type": "error",
     "traceback": [
      "\u001b[0;31m---------------------------------------------------------------------------\u001b[0m",
      "\u001b[0;31mJSONDecodeError\u001b[0m                           Traceback (most recent call last)",
      "File \u001b[0;32m~/workspace/binance-future/binance_ft/api.py:169\u001b[0m, in \u001b[0;36mAPI._handle_exception\u001b[0;34m(self, response)\u001b[0m\n\u001b[1;32m    168\u001b[0m \u001b[38;5;28;01mtry\u001b[39;00m:\n\u001b[0;32m--> 169\u001b[0m     err \u001b[38;5;241m=\u001b[39m \u001b[43mjson\u001b[49m\u001b[38;5;241;43m.\u001b[39;49m\u001b[43mloads\u001b[49m\u001b[43m(\u001b[49m\u001b[43mresponse\u001b[49m\u001b[38;5;241;43m.\u001b[39;49m\u001b[43mtext\u001b[49m\u001b[43m)\u001b[49m\n\u001b[1;32m    170\u001b[0m \u001b[38;5;28;01mexcept\u001b[39;00m JSONDecodeError:\n",
      "File \u001b[0;32m/Library/Developer/CommandLineTools/Library/Frameworks/Python3.framework/Versions/3.9/lib/python3.9/json/__init__.py:346\u001b[0m, in \u001b[0;36mloads\u001b[0;34m(s, cls, object_hook, parse_float, parse_int, parse_constant, object_pairs_hook, **kw)\u001b[0m\n\u001b[1;32m    343\u001b[0m \u001b[38;5;28;01mif\u001b[39;00m (\u001b[38;5;28mcls\u001b[39m \u001b[38;5;129;01mis\u001b[39;00m \u001b[38;5;28;01mNone\u001b[39;00m \u001b[38;5;129;01mand\u001b[39;00m object_hook \u001b[38;5;129;01mis\u001b[39;00m \u001b[38;5;28;01mNone\u001b[39;00m \u001b[38;5;129;01mand\u001b[39;00m\n\u001b[1;32m    344\u001b[0m         parse_int \u001b[38;5;129;01mis\u001b[39;00m \u001b[38;5;28;01mNone\u001b[39;00m \u001b[38;5;129;01mand\u001b[39;00m parse_float \u001b[38;5;129;01mis\u001b[39;00m \u001b[38;5;28;01mNone\u001b[39;00m \u001b[38;5;129;01mand\u001b[39;00m\n\u001b[1;32m    345\u001b[0m         parse_constant \u001b[38;5;129;01mis\u001b[39;00m \u001b[38;5;28;01mNone\u001b[39;00m \u001b[38;5;129;01mand\u001b[39;00m object_pairs_hook \u001b[38;5;129;01mis\u001b[39;00m \u001b[38;5;28;01mNone\u001b[39;00m \u001b[38;5;129;01mand\u001b[39;00m \u001b[38;5;129;01mnot\u001b[39;00m kw):\n\u001b[0;32m--> 346\u001b[0m     \u001b[38;5;28;01mreturn\u001b[39;00m \u001b[43m_default_decoder\u001b[49m\u001b[38;5;241;43m.\u001b[39;49m\u001b[43mdecode\u001b[49m\u001b[43m(\u001b[49m\u001b[43ms\u001b[49m\u001b[43m)\u001b[49m\n\u001b[1;32m    347\u001b[0m \u001b[38;5;28;01mif\u001b[39;00m \u001b[38;5;28mcls\u001b[39m \u001b[38;5;129;01mis\u001b[39;00m \u001b[38;5;28;01mNone\u001b[39;00m:\n",
      "File \u001b[0;32m/Library/Developer/CommandLineTools/Library/Frameworks/Python3.framework/Versions/3.9/lib/python3.9/json/decoder.py:337\u001b[0m, in \u001b[0;36mJSONDecoder.decode\u001b[0;34m(self, s, _w)\u001b[0m\n\u001b[1;32m    333\u001b[0m \u001b[38;5;250m\u001b[39m\u001b[38;5;124;03m\"\"\"Return the Python representation of ``s`` (a ``str`` instance\u001b[39;00m\n\u001b[1;32m    334\u001b[0m \u001b[38;5;124;03mcontaining a JSON document).\u001b[39;00m\n\u001b[1;32m    335\u001b[0m \n\u001b[1;32m    336\u001b[0m \u001b[38;5;124;03m\"\"\"\u001b[39;00m\n\u001b[0;32m--> 337\u001b[0m obj, end \u001b[38;5;241m=\u001b[39m \u001b[38;5;28;43mself\u001b[39;49m\u001b[38;5;241;43m.\u001b[39;49m\u001b[43mraw_decode\u001b[49m\u001b[43m(\u001b[49m\u001b[43ms\u001b[49m\u001b[43m,\u001b[49m\u001b[43m \u001b[49m\u001b[43midx\u001b[49m\u001b[38;5;241;43m=\u001b[39;49m\u001b[43m_w\u001b[49m\u001b[43m(\u001b[49m\u001b[43ms\u001b[49m\u001b[43m,\u001b[49m\u001b[43m \u001b[49m\u001b[38;5;241;43m0\u001b[39;49m\u001b[43m)\u001b[49m\u001b[38;5;241;43m.\u001b[39;49m\u001b[43mend\u001b[49m\u001b[43m(\u001b[49m\u001b[43m)\u001b[49m\u001b[43m)\u001b[49m\n\u001b[1;32m    338\u001b[0m end \u001b[38;5;241m=\u001b[39m _w(s, end)\u001b[38;5;241m.\u001b[39mend()\n",
      "File \u001b[0;32m/Library/Developer/CommandLineTools/Library/Frameworks/Python3.framework/Versions/3.9/lib/python3.9/json/decoder.py:355\u001b[0m, in \u001b[0;36mJSONDecoder.raw_decode\u001b[0;34m(self, s, idx)\u001b[0m\n\u001b[1;32m    354\u001b[0m \u001b[38;5;28;01mexcept\u001b[39;00m \u001b[38;5;167;01mStopIteration\u001b[39;00m \u001b[38;5;28;01mas\u001b[39;00m err:\n\u001b[0;32m--> 355\u001b[0m     \u001b[38;5;28;01mraise\u001b[39;00m JSONDecodeError(\u001b[38;5;124m\"\u001b[39m\u001b[38;5;124mExpecting value\u001b[39m\u001b[38;5;124m\"\u001b[39m, s, err\u001b[38;5;241m.\u001b[39mvalue) \u001b[38;5;28;01mfrom\u001b[39;00m \u001b[38;5;28;01mNone\u001b[39;00m\n\u001b[1;32m    356\u001b[0m \u001b[38;5;28;01mreturn\u001b[39;00m obj, end\n",
      "\u001b[0;31mJSONDecodeError\u001b[0m: Expecting value: line 1 column 1 (char 0)",
      "\nDuring handling of the above exception, another exception occurred:\n",
      "\u001b[0;31mClientError\u001b[0m                               Traceback (most recent call last)",
      "Cell \u001b[0;32mIn[37], line 5\u001b[0m\n\u001b[1;32m      1\u001b[0m \u001b[38;5;28;01mfrom\u001b[39;00m \u001b[38;5;21;01mhelper\u001b[39;00m \u001b[38;5;28;01mimport\u001b[39;00m get_commision, get_precision, get_status_pos, key, secret, xlsx_to_nested_dict\n\u001b[1;32m      3\u001b[0m um_futures_client \u001b[38;5;241m=\u001b[39m UMFutures(key\u001b[38;5;241m=\u001b[39mkey, secret\u001b[38;5;241m=\u001b[39msecret)\n\u001b[0;32m----> 5\u001b[0m response \u001b[38;5;241m=\u001b[39m \u001b[43mum_futures_client\u001b[49m\u001b[38;5;241;43m.\u001b[39;49m\u001b[43mexchange_info\u001b[49m\u001b[43m(\u001b[49m\u001b[43m)\u001b[49m[\u001b[38;5;124m'\u001b[39m\u001b[38;5;124msymbols\u001b[39m\u001b[38;5;124m'\u001b[39m]\n\u001b[1;32m      6\u001b[0m response\n",
      "File \u001b[0;32m~/workspace/binance-future/binance_ft/um_futures/market.py:47\u001b[0m, in \u001b[0;36mexchange_info\u001b[0;34m(self)\u001b[0m\n\u001b[1;32m     36\u001b[0m \u001b[38;5;250m\u001b[39m\u001b[38;5;124;03m\"\"\"\u001b[39;00m\n\u001b[1;32m     37\u001b[0m \u001b[38;5;124;03m|\u001b[39;00m\n\u001b[1;32m     38\u001b[0m \u001b[38;5;124;03m| **Exchange Information**\u001b[39;00m\n\u001b[0;32m   (...)\u001b[0m\n\u001b[1;32m     43\u001b[0m \u001b[38;5;124;03m|\u001b[39;00m\n\u001b[1;32m     44\u001b[0m \u001b[38;5;124;03m\"\"\"\u001b[39;00m\n\u001b[1;32m     46\u001b[0m url_path \u001b[38;5;241m=\u001b[39m \u001b[38;5;124m\"\u001b[39m\u001b[38;5;124m/fapi/v1/exchangeInfo\u001b[39m\u001b[38;5;124m\"\u001b[39m\n\u001b[0;32m---> 47\u001b[0m \u001b[38;5;28;01mreturn\u001b[39;00m \u001b[38;5;28;43mself\u001b[39;49m\u001b[38;5;241;43m.\u001b[39;49m\u001b[43mquery\u001b[49m\u001b[43m(\u001b[49m\u001b[43murl_path\u001b[49m\u001b[43m)\u001b[49m\n",
      "File \u001b[0;32m~/workspace/binance-future/binance_ft/api.py:69\u001b[0m, in \u001b[0;36mAPI.query\u001b[0;34m(self, url_path, payload)\u001b[0m\n\u001b[1;32m     68\u001b[0m \u001b[38;5;28;01mdef\u001b[39;00m \u001b[38;5;21mquery\u001b[39m(\u001b[38;5;28mself\u001b[39m, url_path, payload\u001b[38;5;241m=\u001b[39m\u001b[38;5;28;01mNone\u001b[39;00m):\n\u001b[0;32m---> 69\u001b[0m     \u001b[38;5;28;01mreturn\u001b[39;00m \u001b[38;5;28;43mself\u001b[39;49m\u001b[38;5;241;43m.\u001b[39;49m\u001b[43msend_request\u001b[49m\u001b[43m(\u001b[49m\u001b[38;5;124;43m\"\u001b[39;49m\u001b[38;5;124;43mGET\u001b[39;49m\u001b[38;5;124;43m\"\u001b[39;49m\u001b[43m,\u001b[49m\u001b[43m \u001b[49m\u001b[43murl_path\u001b[49m\u001b[43m,\u001b[49m\u001b[43m \u001b[49m\u001b[43mpayload\u001b[49m\u001b[38;5;241;43m=\u001b[39;49m\u001b[43mpayload\u001b[49m\u001b[43m)\u001b[49m\n",
      "File \u001b[0;32m~/workspace/binance-future/binance_ft/api.py:118\u001b[0m, in \u001b[0;36mAPI.send_request\u001b[0;34m(self, http_method, url_path, payload, special)\u001b[0m\n\u001b[1;32m    116\u001b[0m response \u001b[38;5;241m=\u001b[39m \u001b[38;5;28mself\u001b[39m\u001b[38;5;241m.\u001b[39m_dispatch_request(http_method)(\u001b[38;5;241m*\u001b[39m\u001b[38;5;241m*\u001b[39mparams)\n\u001b[1;32m    117\u001b[0m logging\u001b[38;5;241m.\u001b[39mdebug(\u001b[38;5;124m\"\u001b[39m\u001b[38;5;124mraw response from server:\u001b[39m\u001b[38;5;124m\"\u001b[39m \u001b[38;5;241m+\u001b[39m response\u001b[38;5;241m.\u001b[39mtext)\n\u001b[0;32m--> 118\u001b[0m \u001b[38;5;28;43mself\u001b[39;49m\u001b[38;5;241;43m.\u001b[39;49m\u001b[43m_handle_exception\u001b[49m\u001b[43m(\u001b[49m\u001b[43mresponse\u001b[49m\u001b[43m)\u001b[49m\n\u001b[1;32m    120\u001b[0m \u001b[38;5;28;01mtry\u001b[39;00m:\n\u001b[1;32m    121\u001b[0m     data \u001b[38;5;241m=\u001b[39m response\u001b[38;5;241m.\u001b[39mjson()\n",
      "File \u001b[0;32m~/workspace/binance-future/binance_ft/api.py:171\u001b[0m, in \u001b[0;36mAPI._handle_exception\u001b[0;34m(self, response)\u001b[0m\n\u001b[1;32m    169\u001b[0m         err \u001b[38;5;241m=\u001b[39m json\u001b[38;5;241m.\u001b[39mloads(response\u001b[38;5;241m.\u001b[39mtext)\n\u001b[1;32m    170\u001b[0m     \u001b[38;5;28;01mexcept\u001b[39;00m JSONDecodeError:\n\u001b[0;32m--> 171\u001b[0m         \u001b[38;5;28;01mraise\u001b[39;00m ClientError(status_code, \u001b[38;5;28;01mNone\u001b[39;00m, response\u001b[38;5;241m.\u001b[39mtext, response\u001b[38;5;241m.\u001b[39mheaders)\n\u001b[1;32m    172\u001b[0m     \u001b[38;5;28;01mraise\u001b[39;00m ClientError(status_code, err[\u001b[38;5;124m\"\u001b[39m\u001b[38;5;124mcode\u001b[39m\u001b[38;5;124m\"\u001b[39m], err[\u001b[38;5;124m\"\u001b[39m\u001b[38;5;124mmsg\u001b[39m\u001b[38;5;124m\"\u001b[39m], response\u001b[38;5;241m.\u001b[39mheaders)\n\u001b[1;32m    173\u001b[0m \u001b[38;5;28;01mraise\u001b[39;00m ServerError(status_code, response\u001b[38;5;241m.\u001b[39mtext)\n",
      "\u001b[0;31mClientError\u001b[0m: (403, None, '<html>\\r\\n<head><title>403 Forbidden</title></head>\\r\\n<body>\\r\\n<center><h1>403 Forbidden</h1></center>\\r\\n</body>\\r\\n</html>\\r\\n', {'Server': 'awselb/2.0', 'Date': 'Fri, 17 May 2024 18:03:57 GMT', 'Content-Type': 'text/html', 'Content-Length': '118', 'Connection': 'keep-alive'})"
     ]
    }
   ],
   "source": [
    "from helper import get_commision, get_precision, get_status_pos, key, secret, xlsx_to_nested_dict\n",
    "\n",
    "um_futures_client = UMFutures(key=key, secret=secret)\n",
    "\n",
    "response = um_futures_client.exchange_info()['symbols']\n",
    "response"
   ]
  }
 ],
 "metadata": {
  "kernelspec": {
   "display_name": "Python 3",
   "language": "python",
   "name": "python3"
  },
  "language_info": {
   "codemirror_mode": {
    "name": "ipython",
    "version": 3
   },
   "file_extension": ".py",
   "mimetype": "text/x-python",
   "name": "python",
   "nbconvert_exporter": "python",
   "pygments_lexer": "ipython3",
   "version": "3.9.6"
  }
 },
 "nbformat": 4,
 "nbformat_minor": 2
}

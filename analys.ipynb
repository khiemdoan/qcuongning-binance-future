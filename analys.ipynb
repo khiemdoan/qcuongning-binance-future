{
 "cells": [
  {
   "cell_type": "code",
   "execution_count": 1,
   "metadata": {},
   "outputs": [],
   "source": [
    "import pandas as pd\n"
   ]
  },
  {
   "cell_type": "code",
   "execution_count": 2,
   "metadata": {},
   "outputs": [
    {
     "name": "stdout",
     "output_type": "stream",
     "text": [
      "31\n"
     ]
    }
   ],
   "source": [
    "# random_sheet = pd.read_excel(\"data_test_gap_NEOUSDT_0.99_top.xlsx\", sheet_name=\"Sheet1\")\n",
    "# random_sheet = pd.read_excel(\"data_test_gap_BELUSDT_0.99_bot.xlsx\", sheet_name=\"Sheet1\")\n",
    "random_sheet = pd.read_excel(\"ORDIUSDC_0.99_0.4_2024-05-21.xlsx\", sheet_name=\"Sheet1\")\n",
    "# random_sheet = pd.read_excel(\"./data/ORDIUSDC_0.99_0.1.xlsx\", sheet_name=\"Sheet1\")\n",
    "\n",
    "\n",
    "# random_sheet = pd.read_excel(\"data_test_gap_ARKUSDT_0.99_mid.xlsx\", sheet_name=\"Sheet1\")\n",
    "\n",
    "print(len(random_sheet[random_sheet['break']==True]))\n",
    "# random_sheet.loc[random_sheet['highest_rate']>103, 'break'] = True\n",
    "# len(random_sheet[random_sheet['break']==True])\n",
    "index_break = random_sheet['break']==True\n",
    "index_price = random_sheet['highest_rate']>=105\n",
    "ratio = len(random_sheet[index_price & index_break])/len(random_sheet[index_break])"
   ]
  },
  {
   "cell_type": "markdown",
   "metadata": {},
   "source": []
  },
  {
   "cell_type": "code",
   "execution_count": 3,
   "metadata": {},
   "outputs": [
    {
     "data": {
      "text/plain": [
       "0.22580645161290322"
      ]
     },
     "execution_count": 3,
     "metadata": {},
     "output_type": "execute_result"
    }
   ],
   "source": [
    "ratio\n"
   ]
  },
  {
   "cell_type": "code",
   "execution_count": 4,
   "metadata": {},
   "outputs": [
    {
     "data": {
      "text/plain": [
       "-0.35483870967741926"
      ]
     },
     "execution_count": 4,
     "metadata": {},
     "output_type": "execute_result"
    }
   ],
   "source": [
    "(1 * (1-ratio) + -5*ratio)"
   ]
  },
  {
   "cell_type": "code",
   "execution_count": 5,
   "metadata": {},
   "outputs": [
    {
     "data": {
      "text/plain": [
       "['2024-05-21 00:10:40',\n",
       " '2024-05-21 00:36:19',\n",
       " '2024-05-21 00:52:03',\n",
       " '2024-05-21 01:20:38',\n",
       " '2024-05-21 01:48:39',\n",
       " '2024-05-21 02:08:59',\n",
       " '2024-05-21 06:11:56']"
      ]
     },
     "execution_count": 5,
     "metadata": {},
     "output_type": "execute_result"
    }
   ],
   "source": [
    "random_sheet[index_price & index_break]['time'].to_list()"
   ]
  },
  {
   "cell_type": "code",
   "execution_count": 6,
   "metadata": {},
   "outputs": [
    {
     "data": {
      "text/plain": [
       "nan"
      ]
     },
     "execution_count": 6,
     "metadata": {},
     "output_type": "execute_result"
    }
   ],
   "source": [
    "sum(random_sheet['pnl'])"
   ]
  },
  {
   "cell_type": "code",
   "execution_count": 14,
   "metadata": {},
   "outputs": [],
   "source": [
    "from collections import Counter\n",
    "\n",
    "def minimumOperationsToMakeKPeriodic( word: str, k: int) -> int:\n",
    "\n",
    "    n = len(word)\n",
    "    # Divide the string into substrings of length k\n",
    "    substrings = [word[i:i+k] for i in range(0, n, k)]\n",
    "\n",
    "    # Find the most frequent substring\n",
    "    counter = Counter(substrings)\n",
    "    best_substring, _ = max(counter.items(), key=lambda x: x[1])\n",
    "    print(best_substring)\n",
    "\n",
    "    # Calculate the minimum number of operations\n",
    "    operations = sum(substring != best_substring for substring in substrings)\n",
    "    print(operations)\n",
    "\n",
    "    return operations"
   ]
  },
  {
   "cell_type": "code",
   "execution_count": 15,
   "metadata": {},
   "outputs": [
    {
     "name": "stdout",
     "output_type": "stream",
     "text": [
      "leet\n",
      "1\n"
     ]
    },
    {
     "data": {
      "text/plain": [
       "0"
      ]
     },
     "execution_count": 15,
     "metadata": {},
     "output_type": "execute_result"
    }
   ],
   "source": [
    "minimumOperationsToMakeKPeriodic(\"leetcodeleet\", 4)"
   ]
  },
  {
   "cell_type": "code",
   "execution_count": 62,
   "metadata": {},
   "outputs": [],
   "source": [
    "\n",
    "def min_length_anagram(s):\n",
    "    for i in range(1, len(s)+1):\n",
    "        ok =True\n",
    "        anagram = ''.join(sorted(s[:i]))\n",
    "        if len(s) % len(anagram) !=0:\n",
    "            continue\n",
    "        # print(i,anagram)\n",
    "        for j in range(i, len(s), len(anagram)):\n",
    "            check_w = ''.join(sorted(s[j:j+len(anagram)]))\n",
    "            if anagram != check_w:\n",
    "                ok = False\n",
    "                # print(\"false:\", anagram, check_w)\n",
    "                break\n",
    "        if ok:\n",
    "            # print(\"ok\", anagram)\n",
    "            return len(anagram)\n",
    "    return len(s)\n",
    "\n",
    "\n",
    "    \n",
    "    return 0"
   ]
  },
  {
   "cell_type": "code",
   "execution_count": 63,
   "metadata": {},
   "outputs": [
    {
     "data": {
      "text/plain": [
       "4"
      ]
     },
     "execution_count": 63,
     "metadata": {},
     "output_type": "execute_result"
    }
   ],
   "source": [
    "min_length_anagram(\"cdef\")"
   ]
  }
 ],
 "metadata": {
  "kernelspec": {
   "display_name": "Python 3",
   "language": "python",
   "name": "python3"
  },
  "language_info": {
   "codemirror_mode": {
    "name": "ipython",
    "version": 3
   },
   "file_extension": ".py",
   "mimetype": "text/x-python",
   "name": "python",
   "nbconvert_exporter": "python",
   "pygments_lexer": "ipython3",
   "version": "3.9.6"
  }
 },
 "nbformat": 4,
 "nbformat_minor": 2
}

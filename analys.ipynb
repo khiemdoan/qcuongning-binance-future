{
 "cells": [
  {
   "cell_type": "code",
   "execution_count": 22,
   "metadata": {},
   "outputs": [],
   "source": [
    "import pandas as pd\n"
   ]
  },
  {
   "cell_type": "code",
   "execution_count": 23,
   "metadata": {},
   "outputs": [
    {
     "name": "stdout",
     "output_type": "stream",
     "text": [
      "40\n"
     ]
    }
   ],
   "source": [
    "# random_sheet = pd.read_excel(\"data_test_gap_NEOUSDT_0.99_top.xlsx\", sheet_name=\"Sheet1\")\n",
    "# random_sheet = pd.read_excel(\"data_test_gap_BELUSDT_0.99_bot.xlsx\", sheet_name=\"Sheet1\")\n",
    "random_sheet = pd.read_excel(\"data_test_gap_JTOUSDT_0.99_0.2_random.xlsx\", sheet_name=\"Sheet1\")\n",
    "\n",
    "# random_sheet = pd.read_excel(\"data_test_gap_ARKUSDT_0.99_mid.xlsx\", sheet_name=\"Sheet1\")\n",
    "\n",
    "print(len(random_sheet[random_sheet['break']==True]))\n",
    "# random_sheet.loc[random_sheet['highest_rate']>103, 'break'] = True\n",
    "# len(random_sheet[random_sheet['break']==True])\n",
    "index_break = random_sheet['break']==True\n",
    "index_price = random_sheet['highest_rate']>105\n",
    "ratio = len(random_sheet[index_price & index_break])/len(random_sheet[index_break])"
   ]
  },
  {
   "cell_type": "markdown",
   "metadata": {},
   "source": []
  },
  {
   "cell_type": "code",
   "execution_count": 24,
   "metadata": {},
   "outputs": [
    {
     "data": {
      "text/plain": [
       "0.025"
      ]
     },
     "execution_count": 24,
     "metadata": {},
     "output_type": "execute_result"
    }
   ],
   "source": [
    "ratio\n"
   ]
  },
  {
   "cell_type": "code",
   "execution_count": 25,
   "metadata": {},
   "outputs": [
    {
     "data": {
      "text/plain": [
       "0.85"
      ]
     },
     "execution_count": 25,
     "metadata": {},
     "output_type": "execute_result"
    }
   ],
   "source": [
    "(1 * (1-ratio) + -5*ratio)\n"
   ]
  },
  {
   "cell_type": "code",
   "execution_count": 26,
   "metadata": {},
   "outputs": [
    {
     "data": {
      "text/plain": [
       "['2024-04-14 12:24:12']"
      ]
     },
     "execution_count": 26,
     "metadata": {},
     "output_type": "execute_result"
    }
   ],
   "source": [
    "random_sheet[index_price & index_break]['time'].to_list()"
   ]
  },
  {
   "cell_type": "code",
   "execution_count": null,
   "metadata": {},
   "outputs": [],
   "source": []
  }
 ],
 "metadata": {
  "kernelspec": {
   "display_name": "Python 3",
   "language": "python",
   "name": "python3"
  },
  "language_info": {
   "codemirror_mode": {
    "name": "ipython",
    "version": 3
   },
   "file_extension": ".py",
   "mimetype": "text/x-python",
   "name": "python",
   "nbconvert_exporter": "python",
   "pygments_lexer": "ipython3",
   "version": "3.9.6"
  }
 },
 "nbformat": 4,
 "nbformat_minor": 2
}

{
 "cells": [
  {
   "cell_type": "code",
   "execution_count": 5,
   "metadata": {},
   "outputs": [],
   "source": [
    "import pandas as pd\n"
   ]
  },
  {
   "cell_type": "code",
   "execution_count": 9,
   "metadata": {},
   "outputs": [
    {
     "name": "stdout",
     "output_type": "stream",
     "text": [
      "170\n"
     ]
    }
   ],
   "source": [
    "# random_sheet = pd.read_excel(\"data_test_gap_NEOUSDT_0.99_top.xlsx\", sheet_name=\"Sheet1\")\n",
    "# random_sheet = pd.read_excel(\"data_test_gap_BELUSDT_0.99_bot.xlsx\", sheet_name=\"Sheet1\")\n",
    "random_sheet = pd.read_excel(\"ARKUSDT_0.99_0.1_4.xlsx\", sheet_name=\"Sheet1\")\n",
    "\n",
    "# random_sheet = pd.read_excel(\"data_test_gap_ARKUSDT_0.99_mid.xlsx\", sheet_name=\"Sheet1\")\n",
    "\n",
    "print(len(random_sheet[random_sheet['break']==True]))\n",
    "# random_sheet.loc[random_sheet['highest_rate']>103, 'break'] = True\n",
    "# len(random_sheet[random_sheet['break']==True])\n",
    "index_break = random_sheet['break']==True\n",
    "index_price = random_sheet['highest_rate']>105\n",
    "ratio = len(random_sheet[index_price & index_break])/len(random_sheet[index_break])"
   ]
  },
  {
   "cell_type": "markdown",
   "metadata": {},
   "source": []
  },
  {
   "cell_type": "code",
   "execution_count": 10,
   "metadata": {},
   "outputs": [
    {
     "data": {
      "text/plain": [
       "0.0"
      ]
     },
     "execution_count": 10,
     "metadata": {},
     "output_type": "execute_result"
    }
   ],
   "source": [
    "ratio\n"
   ]
  },
  {
   "cell_type": "code",
   "execution_count": 11,
   "metadata": {},
   "outputs": [
    {
     "data": {
      "text/plain": [
       "1.0"
      ]
     },
     "execution_count": 11,
     "metadata": {},
     "output_type": "execute_result"
    }
   ],
   "source": [
    "(1 * (1-ratio) + -5*ratio)"
   ]
  },
  {
   "cell_type": "code",
   "execution_count": 24,
   "metadata": {},
   "outputs": [
    {
     "data": {
      "text/plain": [
       "['2024-04-16 11:53:43',\n",
       " '2024-04-16 12:00:25',\n",
       " '2024-04-16 12:06:42',\n",
       " '2024-04-16 12:13:42',\n",
       " '2024-04-16 17:36:41']"
      ]
     },
     "execution_count": 24,
     "metadata": {},
     "output_type": "execute_result"
    }
   ],
   "source": [
    "random_sheet[index_price & index_break]['time'].to_list()"
   ]
  },
  {
   "cell_type": "code",
   "execution_count": null,
   "metadata": {},
   "outputs": [],
   "source": []
  }
 ],
 "metadata": {
  "kernelspec": {
   "display_name": "Python 3",
   "language": "python",
   "name": "python3"
  },
  "language_info": {
   "codemirror_mode": {
    "name": "ipython",
    "version": 3
   },
   "file_extension": ".py",
   "mimetype": "text/x-python",
   "name": "python",
   "nbconvert_exporter": "python",
   "pygments_lexer": "ipython3",
   "version": "3.9.6"
  }
 },
 "nbformat": 4,
 "nbformat_minor": 2
}

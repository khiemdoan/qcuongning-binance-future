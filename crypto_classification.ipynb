{
  "cells": [
    {
      "cell_type": "code",
      "execution_count": 1,
      "metadata": {
        "id": "RtfSvz8ecBWK"
      },
      "outputs": [],
      "source": [
        "import requests\n",
        "import pandas as pd\n",
        "from datetime import datetime\n",
        "import numpy as np\n",
        "import xgboost as xgb\n",
        "\n",
        "bst = xgb.Booster()\n",
        "bst.load_model('xgboost_model.json')"
      ]
    },
    {
      "cell_type": "code",
      "execution_count": 17,
      "metadata": {
        "id": "CJ1izNFecaMb"
      },
      "outputs": [],
      "source": [
        "def rule(df_btc, df, tp=1, sl=5, money=1000):\n",
        "    number_high = 0\n",
        "    number_low = 0\n",
        "    cannot_break = 0\n",
        "    results = []\n",
        "    list_reward = []\n",
        "    balance = 0\n",
        "    price_line = []\n",
        "\n",
        "\n",
        "    index_condition = []\n",
        "    for i in range(40, len(df)-1, 10):\n",
        "        x_array = df.iloc[i-30:i].values[:,1:].astype(np.float32)\n",
        "\n",
        "        x_array[:,-1] = x_array[:,-1]/20000\n",
        "        min_price = np.min(x_array[:,:4])\n",
        "        max_price = np.max(x_array[:,:4])\n",
        "        x_array[:,:4] = (x_array[:,:4] - min_price) / (max_price - min_price)\n",
        "\n",
        "\n",
        "        x_array = np.array([x_array]).reshape(1, -1)\n",
        "        dtest = xgb.DMatrix(x_array)\n",
        "        y_pred_prob = bst.predict(dtest)\n",
        "        if y_pred_prob >= 0.5:\n",
        "            index_condition.append(i)\n",
        "\n",
        "    index_condition = sorted(index_condition)\n",
        "    for i in index_condition:\n",
        "        a = df['open'].iloc[i]\n",
        "        high_check = False\n",
        "        low_check = False\n",
        "        for j in range(i, len(df)):\n",
        "            # if j >= len(df):\n",
        "            #     break\n",
        "            high_check = df['high'].iloc[j] >= (1+sl*0.01) * a\n",
        "            low_check = df['low'].iloc[j] <= (1-tp*0.01) * a\n",
        "            if high_check and low_check:\n",
        "                print(\"check lai\")\n",
        "            if high_check:\n",
        "                balance += -money*sl/100\n",
        "                list_reward.append(balance)\n",
        "                price_line.append(j)\n",
        "                number_high+=1\n",
        "                results.append((i, df.iloc[i]['timestamp'], df.iloc[j]['timestamp'], \"high\"))\n",
        "                break\n",
        "            if low_check:\n",
        "                price_line.append(j)\n",
        "                balance += money*tp/100\n",
        "                list_reward.append(balance)\n",
        "                number_low+=1\n",
        "\n",
        "                results.append((i, df.iloc[i]['timestamp'], df.iloc[j]['timestamp'], \"low\"))\n",
        "                break\n",
        "        if not high_check and not low_check:\n",
        "            cannot_break += 1\n",
        "    prices_list = df.loc[price_line, 'open'].tolist()\n",
        "\n",
        "    print(\"num points: \", len(index_condition), \"number_low/all_point\", round(number_low/(number_low+number_high+0.01), 3), \"cannot_break\", cannot_break)\n",
        "    return money  *   (number_low * tp/100 + number_high * -sl/100),cannot_break, results, index_condition, number_high, number_low, list_reward, prices_list\n"
      ]
    },
    {
      "cell_type": "code",
      "execution_count": 5,
      "metadata": {
        "id": "wQYd-BKtcebw"
      },
      "outputs": [],
      "source": [
        "start = \"2023-06-12\"\n",
        "end = \"2024-08-11\"\n",
        "df_all = []\n",
        "symb = \"ORDIUSDT\"\n",
        "interval = \"15m\"\n",
        "df_all = pd.read_csv(f\"{symb}_{start}_{end}_{interval}.csv\")"
      ]
    },
    {
      "cell_type": "code",
      "execution_count": 7,
      "metadata": {},
      "outputs": [
        {
          "data": {
            "text/html": [
              "<div>\n",
              "<style scoped>\n",
              "    .dataframe tbody tr th:only-of-type {\n",
              "        vertical-align: middle;\n",
              "    }\n",
              "\n",
              "    .dataframe tbody tr th {\n",
              "        vertical-align: top;\n",
              "    }\n",
              "\n",
              "    .dataframe thead th {\n",
              "        text-align: right;\n",
              "    }\n",
              "</style>\n",
              "<table border=\"1\" class=\"dataframe\">\n",
              "  <thead>\n",
              "    <tr style=\"text-align: right;\">\n",
              "      <th></th>\n",
              "      <th>timestamp</th>\n",
              "      <th>open</th>\n",
              "      <th>high</th>\n",
              "      <th>low</th>\n",
              "      <th>close</th>\n",
              "      <th>volumn</th>\n",
              "    </tr>\n",
              "  </thead>\n",
              "  <tbody>\n",
              "    <tr>\n",
              "      <th>26360</th>\n",
              "      <td>2024-08-08 09:00:00</td>\n",
              "      <td>26.61</td>\n",
              "      <td>27.41</td>\n",
              "      <td>26.61</td>\n",
              "      <td>27.37</td>\n",
              "      <td>78585.16</td>\n",
              "    </tr>\n",
              "  </tbody>\n",
              "</table>\n",
              "</div>"
            ],
            "text/plain": [
              "                 timestamp   open   high    low  close    volumn\n",
              "26360  2024-08-08 09:00:00  26.61  27.41  26.61  27.37  78585.16"
            ]
          },
          "execution_count": 7,
          "metadata": {},
          "output_type": "execute_result"
        }
      ],
      "source": [
        "df_all[df_all['timestamp']==\"2024-08-08 09:00:00\"]"
      ]
    },
    {
      "cell_type": "code",
      "execution_count": 19,
      "metadata": {
        "colab": {
          "base_uri": "https://localhost:8080/",
          "height": 211
        },
        "id": "hvhbnbYidb2y",
        "outputId": "3e9159f1-8756-434a-e994-3ecffabf0c41"
      },
      "outputs": [
        {
          "data": {
            "text/html": [
              "<div>\n",
              "<style scoped>\n",
              "    .dataframe tbody tr th:only-of-type {\n",
              "        vertical-align: middle;\n",
              "    }\n",
              "\n",
              "    .dataframe tbody tr th {\n",
              "        vertical-align: top;\n",
              "    }\n",
              "\n",
              "    .dataframe thead th {\n",
              "        text-align: right;\n",
              "    }\n",
              "</style>\n",
              "<table border=\"1\" class=\"dataframe\">\n",
              "  <thead>\n",
              "    <tr style=\"text-align: right;\">\n",
              "      <th></th>\n",
              "      <th>timestamp</th>\n",
              "      <th>open</th>\n",
              "      <th>high</th>\n",
              "      <th>low</th>\n",
              "      <th>close</th>\n",
              "      <th>volumn</th>\n",
              "    </tr>\n",
              "  </thead>\n",
              "  <tbody>\n",
              "    <tr>\n",
              "      <th>0</th>\n",
              "      <td>2024-02-19 23:00:00</td>\n",
              "      <td>70.167</td>\n",
              "      <td>70.247</td>\n",
              "      <td>70.0</td>\n",
              "      <td>70.08</td>\n",
              "      <td>7056.04</td>\n",
              "    </tr>\n",
              "  </tbody>\n",
              "</table>\n",
              "</div>"
            ],
            "text/plain": [
              "             timestamp    open    high   low  close   volumn\n",
              "0  2024-02-19 23:00:00  70.167  70.247  70.0  70.08  7056.04"
            ]
          },
          "metadata": {},
          "output_type": "display_data"
        },
        {
          "data": {
            "text/html": [
              "<div>\n",
              "<style scoped>\n",
              "    .dataframe tbody tr th:only-of-type {\n",
              "        vertical-align: middle;\n",
              "    }\n",
              "\n",
              "    .dataframe tbody tr th {\n",
              "        vertical-align: top;\n",
              "    }\n",
              "\n",
              "    .dataframe thead th {\n",
              "        text-align: right;\n",
              "    }\n",
              "</style>\n",
              "<table border=\"1\" class=\"dataframe\">\n",
              "  <thead>\n",
              "    <tr style=\"text-align: right;\">\n",
              "      <th></th>\n",
              "      <th>timestamp</th>\n",
              "      <th>open</th>\n",
              "      <th>high</th>\n",
              "      <th>low</th>\n",
              "      <th>close</th>\n",
              "      <th>volumn</th>\n",
              "    </tr>\n",
              "  </thead>\n",
              "  <tbody>\n",
              "    <tr>\n",
              "      <th>16515</th>\n",
              "      <td>2024-08-09 23:45:00</td>\n",
              "      <td>27.61</td>\n",
              "      <td>27.67</td>\n",
              "      <td>27.48</td>\n",
              "      <td>27.67</td>\n",
              "      <td>6915.32</td>\n",
              "    </tr>\n",
              "    <tr>\n",
              "      <th>16516</th>\n",
              "      <td>2024-08-10 00:00:00</td>\n",
              "      <td>27.67</td>\n",
              "      <td>27.81</td>\n",
              "      <td>27.60</td>\n",
              "      <td>27.80</td>\n",
              "      <td>2958.34</td>\n",
              "    </tr>\n",
              "  </tbody>\n",
              "</table>\n",
              "</div>"
            ],
            "text/plain": [
              "                 timestamp   open   high    low  close   volumn\n",
              "16515  2024-08-09 23:45:00  27.61  27.67  27.48  27.67  6915.32\n",
              "16516  2024-08-10 00:00:00  27.67  27.81  27.60  27.80  2958.34"
            ]
          },
          "metadata": {},
          "output_type": "display_data"
        },
        {
          "name": "stdout",
          "output_type": "stream",
          "text": [
            "num points:  865 number_low/all_point 0.683 cannot_break 0\n"
          ]
        },
        {
          "data": {
            "text/plain": [
              "9510.0"
            ]
          },
          "execution_count": 19,
          "metadata": {},
          "output_type": "execute_result"
        }
      ],
      "source": [
        "df = df_all.iloc[10000:].reset_index(drop=True)#.drop(columns=['fluct', 'amp'])\n",
        "display(df.head(1))\n",
        "display(df.tail(2))\n",
        "reward, cb, rs, idcond, high_check, low_check, list_reward, prices_list = rule(df, df, tp=3, sl=3)\n",
        "reward"
      ]
    },
    {
      "cell_type": "code",
      "execution_count": 20,
      "metadata": {
        "colab": {
          "base_uri": "https://localhost:8080/",
          "height": 453
        },
        "id": "CR5phO4XdfeD",
        "outputId": "ccde829f-b03c-4ace-e115-a2f3b62784e6"
      },
      "outputs": [
        {
          "data": {
            "image/png": "[encoded data removed]",
            "text/plain": [
              "<Figure size 640x480 with 2 Axes>"
            ]
          },
          "metadata": {},
          "output_type": "display_data"
        }
      ],
      "source": [
        "import matplotlib.pyplot as plt\n",
        "\n",
        "\n",
        "fig, ax1 = plt.subplots()\n",
        "\n",
        "ax1.plot(list_reward, 'b-', label='list_reward')\n",
        "ax1.set_xlabel('time')\n",
        "ax1.set_ylabel('list_reward', color='b')\n",
        "ax1.tick_params(axis='y', labelcolor='b')\n",
        "\n",
        "ax2 = ax1.twinx()\n",
        "ax2.plot(prices_list, 'r-', label='prices_list')\n",
        "ax2.set_ylabel('prices_list', color='r')\n",
        "ax2.tick_params(axis='y', labelcolor='r')\n",
        "\n",
        "fig.legend(loc='upper left', bbox_to_anchor=(0.1, 0.9))\n",
        "\n",
        "# plt.title('Two Lists with Different Scales')\n",
        "plt.show()"
      ]
    }
  ],
  "metadata": {
    "accelerator": "GPU",
    "colab": {
      "gpuType": "T4",
      "provenance": []
    },
    "kernelspec": {
      "display_name": "Python 3",
      "name": "python3"
    },
    "language_info": {
      "codemirror_mode": {
        "name": "ipython",
        "version": 3
      },
      "file_extension": ".py",
      "mimetype": "text/x-python",
      "name": "python",
      "nbconvert_exporter": "python",
      "pygments_lexer": "ipython3",
      "version": "3.9.6"
    }
  },
  "nbformat": 4,
  "nbformat_minor": 0
}
